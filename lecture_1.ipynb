{
 "cells": [
  {
   "cell_type": "markdown",
   "metadata": {},
   "source": [
    "# Lecture 01: Introduction to Python\n",
    "\n",
    "Instructor:\n",
    "<br>**Md Shahidullah Kawsar**\n",
    "<br>Data Scientist\n",
    "<br>IDARE, Houston, TX, USA\n",
    "\n",
    "#### Objectives:\n",
    "1. Familiarity with Anaconda, jupyter notebook, and Github\n",
    "2. Learn logical thinking by playing blockly games: Maze\n",
    "3. Learn about Python data types, Mathematical Operations, Comparison Operators, Logical Operators, and Membership Operators\n",
    "\n",
    "#### References: \n",
    "1. Version 3.7 (preferred) or higher: https://www.python.org/downloads/%7B%7B6%7D%7D\n",
    "2. Download Anaconda installer: https://www.anaconda.com/products/individual\n",
    "3. How to Install Anaconda (Python) on Windows 10:\n",
    "https://www.youtube.com/watch?v=syijLJ3oQzU\n",
    "4. Easily Install Anaconda Python on MacOS:\n",
    "https://www.youtube.com/watch?v=V6ZAv7hBH6Y&ab_channel=JustUnderstandingDataJustUnderstandingData\n",
    "5. https://blockly.games/\n",
    "6. Python - Basic Operators: https://www.tutorialspoint.com/python/python_basic_operators.htm\n",
    "7. Data Science workshop: https://github.com/sadat1971/Conducting-Workshop-DATA-SCIENCE/tree/master/lecture_tutorials\n"
   ]
  },
  {
   "cell_type": "markdown",
   "metadata": {},
   "source": [
    "### Python Data Types\n",
    "<br>**str** : string, text\n",
    "<br>**int** : inetger numbers\n",
    "<br>**float** : real numbers, decimal values\n",
    "<br>**bool** : True, False"
   ]
  },
  {
   "cell_type": "code",
   "execution_count": 42,
   "metadata": {},
   "outputs": [
    {
     "name": "stdout",
     "output_type": "stream",
     "text": [
      "name :  Lionel Andres Messi\n",
      "type of name is <class 'str'>\n",
      "birth_year :  1987\n",
      "type of birth_year is <class 'int'>\n",
      "height :  1.7\n",
      "type of height is <class 'float'>\n",
      "no_1_player :  True\n",
      "type of no_1_player is <class 'bool'>\n"
     ]
    }
   ],
   "source": [
    "name = 'Lionel Andres Messi'\n",
    "print(\"name : \", name)\n",
    "print('type of name is', type(name))\n",
    "\n",
    "birth_year = 1987\n",
    "print(\"birth_year : \", birth_year)\n",
    "print('type of birth_year is', type(birth_year))\n",
    "\n",
    "height = 1.7\n",
    "print(\"height : \", height)\n",
    "print('type of height is', type(height))\n",
    "\n",
    "no_1_player = True\n",
    "print(\"no_1_player : \", no_1_player)\n",
    "print('type of no_1_player is', type(no_1_player))"
   ]
  },
  {
   "cell_type": "markdown",
   "metadata": {},
   "source": [
    "### Mathematical operations"
   ]
  },
  {
   "cell_type": "code",
   "execution_count": 43,
   "metadata": {},
   "outputs": [
    {
     "name": "stdout",
     "output_type": "stream",
     "text": [
      "a+b =  5\n",
      "a*b =  6\n",
      "a-b =  -1\n",
      "a%b =  2\n",
      "a/b =  0.6666666666666666\n",
      "a//b =  0\n",
      "a**b =  8\n"
     ]
    }
   ],
   "source": [
    "a = 2 #integer\n",
    "b = 3 #integer \n",
    "\n",
    "# Addition\n",
    "print(\"a+b = \", a+b) \n",
    "\n",
    "# Multiplication\n",
    "print(\"a*b = \", a*b) \n",
    "\n",
    "# Subtraction\n",
    "print(\"a-b = \", a-b) \n",
    "\n",
    "# Modulus: Divides left hand operand by right hand operand and returns remainder\n",
    "print(\"a%b = \", a%b) \n",
    "\n",
    "# Division\n",
    "print(\"a/b = \", a/b)\n",
    "\n",
    "# Floor Division - The division of operands \n",
    "# where the result is the quotient in which \n",
    "# the digits after the decimal point are removed. \n",
    "# But if one of the operands is negative, the result is floored, \n",
    "# i.e., rounded away from zero (towards negative infinity)\n",
    "print(\"a//b = \", a//b) \n",
    "\n",
    "# Exponent: Performs exponential (power) calculation on operators\n",
    "print(\"a**b = \", a**b) "
   ]
  },
  {
   "cell_type": "markdown",
   "metadata": {},
   "source": [
    "### Comparison Operators"
   ]
  },
  {
   "cell_type": "code",
   "execution_count": 44,
   "metadata": {},
   "outputs": [
    {
     "name": "stdout",
     "output_type": "stream",
     "text": [
      "a == b :  False\n",
      "a != b :  True\n",
      "a >= b :  False\n",
      "a <= b :  True\n",
      "a > b  :  False\n",
      "a < b  :  True\n"
     ]
    }
   ],
   "source": [
    "a = -1\n",
    "b = 1\n",
    "\n",
    "print(\"a == b : \", a == b)\n",
    "print(\"a != b : \", a != b)\n",
    "print(\"a >= b : \", a >= b)\n",
    "print(\"a <= b : \", a <= b)\n",
    "print(\"a > b  : \", a > b)\n",
    "print(\"a < b  : \", a < b)"
   ]
  },
  {
   "cell_type": "markdown",
   "metadata": {},
   "source": [
    "### Logical Operators"
   ]
  },
  {
   "cell_type": "code",
   "execution_count": 45,
   "metadata": {},
   "outputs": [
    {
     "name": "stdout",
     "output_type": "stream",
     "text": [
      "a == b and c == d :  True\n",
      "a == b or c == d :  True\n",
      "not c == d :  False\n"
     ]
    }
   ],
   "source": [
    "a = 1\n",
    "b = 1\n",
    "c = 2\n",
    "d = 2\n",
    "\n",
    "print(\"a == b and c == d : \", a == b and c == d)\n",
    "print(\"a == b or c == d : \", a == b or c == d)\n",
    "print(\"not c == d : \", not c == d)"
   ]
  },
  {
   "cell_type": "markdown",
   "metadata": {},
   "source": [
    "### Membership Operators"
   ]
  },
  {
   "cell_type": "code",
   "execution_count": 46,
   "metadata": {},
   "outputs": [
    {
     "name": "stdout",
     "output_type": "stream",
     "text": [
      "a in b     :  True\n",
      "a not in b :  False\n"
     ]
    }
   ],
   "source": [
    "a = \"abul\"\n",
    "b = \"babul\"\n",
    "\n",
    "print(\"a in b     : \", a in b)\n",
    "print(\"a not in b : \", a not in b)"
   ]
  },
  {
   "cell_type": "markdown",
   "metadata": {},
   "source": [
    "### Homework: \n",
    "1. Play the blockly games: Maze and complete upto level 10\n",
    "2. Create a Github account\n",
    "3. Create a LinkedIn account. Update the profile picture and cover photo."
   ]
  },
  {
   "cell_type": "code",
   "execution_count": null,
   "metadata": {},
   "outputs": [],
   "source": []
  }
 ],
 "metadata": {
  "kernelspec": {
   "display_name": "Python 3",
   "language": "python",
   "name": "python3"
  },
  "language_info": {
   "codemirror_mode": {
    "name": "ipython",
    "version": 3
   },
   "file_extension": ".py",
   "mimetype": "text/x-python",
   "name": "python",
   "nbconvert_exporter": "python",
   "pygments_lexer": "ipython3",
   "version": "3.7.7"
  }
 },
 "nbformat": 4,
 "nbformat_minor": 4
}
