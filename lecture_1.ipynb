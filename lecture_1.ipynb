{
 "cells": [
  {
   "cell_type": "markdown",
   "metadata": {},
   "source": [
    "Introduction to Python\n",
    "\n",
    "Instructor:\n",
    "<br>Md Shahidullah Kawsar\n",
    "<br>Data Scientist\n",
    "<br>IDARE, Houston, TX, USA\n",
    "\n",
    "<br>MS in Electrical Engineering\n",
    "<br>University of South Florida, FL, USA\n",
    "\n",
    "<br>BSc in Electrical and Electronic Engineering\n",
    "<br>Khulna University of Engineering & Technology, Khulna, Bangladesh\n",
    "\n",
    "Goal of lecture 01:\n",
    "1. Familiarity with Anaconda, jupyter notebook, LeetCode and Github\n",
    "2. \n",
    "\n",
    "References: \n",
    "1. Download Anaconda installer: https://www.anaconda.com/products/individual\n",
    "2. How to Install Anaconda (Python) on Windows 10:\n",
    "https://www.youtube.com/watch?v=syijLJ3oQzU\n",
    "3. Easily Install Anaconda Python on MacOS:\n",
    "https://www.youtube.com/watch?v=V6ZAv7hBH6Y&ab_channel=JustUnderstandingDataJustUnderstandingData\n",
    "4. https://blockly.games/\n",
    "\n",
    "Homework: \n",
    "1. Create a Github account\n",
    "2. Create a LeetCode account\n",
    "3. Create a LinkedIn account. Update the profile picture and cover photo."
   ]
  },
  {
   "cell_type": "code",
   "execution_count": null,
   "metadata": {},
   "outputs": [],
   "source": []
  }
 ],
 "metadata": {
  "kernelspec": {
   "display_name": "Python 3",
   "language": "python",
   "name": "python3"
  },
  "language_info": {
   "codemirror_mode": {
    "name": "ipython",
    "version": 3
   },
   "file_extension": ".py",
   "mimetype": "text/x-python",
   "name": "python",
   "nbconvert_exporter": "python",
   "pygments_lexer": "ipython3",
   "version": "3.8.5"
  }
 },
 "nbformat": 4,
 "nbformat_minor": 4
}
