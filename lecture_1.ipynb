{
 "cells": [
  {
   "cell_type": "markdown",
   "metadata": {},
   "source": [
    "# Lecture 01: Introduction to Python\n",
    "\n",
    "Instructor:\n",
    "<br>**Md Shahidullah Kawsar**\n",
    "<br>Data Scientist\n",
    "<br>IDARE, Houston, TX, USA\n",
    "\n",
    "#### Objectives:\n",
    "1. Familiarity with Anaconda, jupyter notebook, and Github\n",
    "2. Learn logical thinking by playing blockly games: Maze\n",
    "3. Learn about Python data types, Mathematical Operations, Comparison Operators, Logical Operators, and Membership Operators\n",
    "\n",
    "#### References: \n",
    "1. Version 3.7 (preferred) or higher: https://www.python.org/downloads/%7B%7B6%7D%7D\n",
    "2. Download Anaconda installer: https://www.anaconda.com/products/individual\n",
    "3. How to Install Anaconda (Python) on Windows 10:\n",
    "https://www.youtube.com/watch?v=syijLJ3oQzU\n",
    "4. Easily Install Anaconda Python on MacOS:\n",
    "https://www.youtube.com/watch?v=V6ZAv7hBH6Y&ab_channel=JustUnderstandingDataJustUnderstandingData\n",
    "5. https://blockly.games/\n",
    "6. Python - Basic Operators: https://www.tutorialspoint.com/python/python_basic_operators.htm\n",
    "7. Data Science workshop: https://github.com/sadat1971/Conducting-Workshop-DATA-SCIENCE/tree/master/lecture_tutorials\n"
   ]
  },
  {
   "cell_type": "markdown",
   "metadata": {},
   "source": [
    "- Q1: The sum of two even numbers will be always odd. True or **False**\n",
    "\n",
    "<br>The sum of two even numbers will be always even.\n",
    "<br>The sum of two odd numbers will be always even.\n",
    "<br>The sum of one even number and one odd number will be always odd\n"
   ]
  },
  {
   "cell_type": "code",
   "execution_count": 34,
   "metadata": {},
   "outputs": [
    {
     "data": {
      "text/plain": [
       "4"
      ]
     },
     "execution_count": 34,
     "metadata": {},
     "output_type": "execute_result"
    }
   ],
   "source": [
    "# integer\n",
    "# পূর্ণসংখ্যা \n",
    "# কমেন্ট\n",
    "2 + 2 "
   ]
  },
  {
   "cell_type": "code",
   "execution_count": 35,
   "metadata": {},
   "outputs": [
    {
     "data": {
      "text/plain": [
       "14"
      ]
     },
     "execution_count": 35,
     "metadata": {},
     "output_type": "execute_result"
    }
   ],
   "source": [
    "4 + 10"
   ]
  },
  {
   "cell_type": "code",
   "execution_count": 36,
   "metadata": {},
   "outputs": [
    {
     "data": {
      "text/plain": [
       "6"
      ]
     },
     "execution_count": 36,
     "metadata": {},
     "output_type": "execute_result"
    }
   ],
   "source": [
    "3 + 3"
   ]
  },
  {
   "cell_type": "code",
   "execution_count": 37,
   "metadata": {},
   "outputs": [
    {
     "data": {
      "text/plain": [
       "5"
      ]
     },
     "execution_count": 37,
     "metadata": {},
     "output_type": "execute_result"
    }
   ],
   "source": [
    "2 + 3"
   ]
  },
  {
   "cell_type": "markdown",
   "metadata": {},
   "source": [
    "- Q2: A positive value is always greater than a negative value. **True** or False\n"
   ]
  },
  {
   "cell_type": "code",
   "execution_count": 38,
   "metadata": {},
   "outputs": [
    {
     "data": {
      "text/plain": [
       "True"
      ]
     },
     "execution_count": 38,
     "metadata": {},
     "output_type": "execute_result"
    }
   ],
   "source": [
    "1 > -1"
   ]
  },
  {
   "cell_type": "code",
   "execution_count": 39,
   "metadata": {},
   "outputs": [
    {
     "data": {
      "text/plain": [
       "False"
      ]
     },
     "execution_count": 39,
     "metadata": {},
     "output_type": "execute_result"
    }
   ],
   "source": [
    "-9 > 1"
   ]
  },
  {
   "cell_type": "markdown",
   "metadata": {},
   "source": [
    "- Q3: Can you divide a number by zero? Yes or **No**\n"
   ]
  },
  {
   "cell_type": "code",
   "execution_count": 40,
   "metadata": {},
   "outputs": [],
   "source": [
    "# 0/0"
   ]
  },
  {
   "cell_type": "markdown",
   "metadata": {},
   "source": [
    "- Q4. If x is less than 1 and y is greater than 1, then x/y is less than 1. True or False\n"
   ]
  },
  {
   "cell_type": "code",
   "execution_count": 41,
   "metadata": {},
   "outputs": [
    {
     "data": {
      "text/plain": [
       "True"
      ]
     },
     "execution_count": 41,
     "metadata": {},
     "output_type": "execute_result"
    }
   ],
   "source": [
    "# 0.5 float \n",
    "x = 0.5\n",
    "y = 2\n",
    "\n",
    "x/y < 1"
   ]
  },
  {
   "cell_type": "markdown",
   "metadata": {},
   "source": [
    "- Q5. The word 'Google' contains 5 unique characters. **True** or False\n"
   ]
  },
  {
   "cell_type": "code",
   "execution_count": 42,
   "metadata": {},
   "outputs": [
    {
     "data": {
      "text/plain": [
       "29"
      ]
     },
     "execution_count": 42,
     "metadata": {},
     "output_type": "execute_result"
    }
   ],
   "source": [
    "# \"Google\", 'Google'\n",
    "\n",
    "#len(\"Google\")\n",
    "len(\"My phone number is 2082222 !&\")"
   ]
  },
  {
   "cell_type": "code",
   "execution_count": 43,
   "metadata": {},
   "outputs": [
    {
     "data": {
      "text/plain": [
       "True"
      ]
     },
     "execution_count": 43,
     "metadata": {},
     "output_type": "execute_result"
    }
   ],
   "source": [
    "1 == 1"
   ]
  },
  {
   "cell_type": "code",
   "execution_count": 44,
   "metadata": {},
   "outputs": [
    {
     "data": {
      "text/plain": [
       "False"
      ]
     },
     "execution_count": 44,
     "metadata": {},
     "output_type": "execute_result"
    }
   ],
   "source": [
    "2 == 3"
   ]
  },
  {
   "cell_type": "code",
   "execution_count": 45,
   "metadata": {},
   "outputs": [
    {
     "data": {
      "text/plain": [
       "False"
      ]
     },
     "execution_count": 45,
     "metadata": {},
     "output_type": "execute_result"
    }
   ],
   "source": [
    "52 == 53"
   ]
  },
  {
   "cell_type": "code",
   "execution_count": 46,
   "metadata": {},
   "outputs": [
    {
     "data": {
      "text/plain": [
       "False"
      ]
     },
     "execution_count": 46,
     "metadata": {},
     "output_type": "execute_result"
    }
   ],
   "source": [
    "\"G\" == \"g\""
   ]
  },
  {
   "cell_type": "code",
   "execution_count": 47,
   "metadata": {},
   "outputs": [
    {
     "data": {
      "text/plain": [
       "True"
      ]
     },
     "execution_count": 47,
     "metadata": {},
     "output_type": "execute_result"
    }
   ],
   "source": [
    "\"G\" == \"G\""
   ]
  },
  {
   "cell_type": "markdown",
   "metadata": {},
   "source": [
    "- Q6. If x>1 and y>1, then x multiplied by y is greater than 1. **True** or False\n"
   ]
  },
  {
   "cell_type": "code",
   "execution_count": 48,
   "metadata": {},
   "outputs": [
    {
     "data": {
      "text/plain": [
       "True"
      ]
     },
     "execution_count": 48,
     "metadata": {},
     "output_type": "execute_result"
    }
   ],
   "source": [
    "x = 100\n",
    "y = 10\n",
    "\n",
    "x*y > 1"
   ]
  },
  {
   "cell_type": "markdown",
   "metadata": {},
   "source": [
    "- Q7. The product of two odd numbers and one even number will always be an even number. **True** or False\n"
   ]
  },
  {
   "cell_type": "code",
   "execution_count": 49,
   "metadata": {},
   "outputs": [
    {
     "data": {
      "text/plain": [
       "30"
      ]
     },
     "execution_count": 49,
     "metadata": {},
     "output_type": "execute_result"
    }
   ],
   "source": [
    "3*5*2"
   ]
  },
  {
   "cell_type": "code",
   "execution_count": 50,
   "metadata": {},
   "outputs": [
    {
     "data": {
      "text/plain": [
       "28"
      ]
     },
     "execution_count": 50,
     "metadata": {},
     "output_type": "execute_result"
    }
   ],
   "source": [
    "7*1*4"
   ]
  },
  {
   "cell_type": "markdown",
   "metadata": {},
   "source": [
    "- Q8. Set A = {1, 3, 5}, Set B = {1, 2, 3}; Set A intersection Set B = {1, 2, 3, 5}. True or **False**\n"
   ]
  },
  {
   "cell_type": "code",
   "execution_count": 51,
   "metadata": {},
   "outputs": [
    {
     "data": {
      "text/plain": [
       "{1, 3}"
      ]
     },
     "execution_count": 51,
     "metadata": {},
     "output_type": "execute_result"
    }
   ],
   "source": [
    "a = {1,3,5}\n",
    "b = {1,2,3}\n",
    "\n",
    "a.intersection(b)"
   ]
  },
  {
   "cell_type": "markdown",
   "metadata": {},
   "source": [
    "- Q9. A = [1,2,3,1,2,3,12,3], the number of unique integers present in A are 4. **True** or False\n"
   ]
  },
  {
   "cell_type": "markdown",
   "metadata": {},
   "source": [
    "- Q10. 1 is not equal to 1.00. True or **False**"
   ]
  },
  {
   "cell_type": "code",
   "execution_count": 52,
   "metadata": {},
   "outputs": [
    {
     "data": {
      "text/plain": [
       "True"
      ]
     },
     "execution_count": 52,
     "metadata": {},
     "output_type": "execute_result"
    }
   ],
   "source": [
    "1 == 1.00"
   ]
  },
  {
   "cell_type": "code",
   "execution_count": 53,
   "metadata": {},
   "outputs": [],
   "source": [
    "a = True\n",
    "b = False"
   ]
  },
  {
   "cell_type": "markdown",
   "metadata": {},
   "source": [
    "### Python Data Types\n",
    "<br>**str** : string, text\n",
    "<br>**int** : inetger numbers\n",
    "<br>**float** : real numbers, decimal values\n",
    "<br>**bool** : True, False"
   ]
  },
  {
   "cell_type": "code",
   "execution_count": 54,
   "metadata": {},
   "outputs": [
    {
     "name": "stdout",
     "output_type": "stream",
     "text": [
      "name :  Lionel Andres Messi\n",
      "birth_year :  1987\n",
      "height :  1.7\n",
      "no_1_player :  True\n"
     ]
    }
   ],
   "source": [
    "name = 'Lionel Andres Messi'\n",
    "print(\"name : \", name)\n",
    "#print('type of name is', type(name))\n",
    "\n",
    "birth_year = 1987\n",
    "print(\"birth_year : \", birth_year)\n",
    "#print('type of birth_year is', type(birth_year))\n",
    "\n",
    "height = 1.7\n",
    "print(\"height : \", height)\n",
    "#print('type of height is', type(height))\n",
    "\n",
    "no_1_player = True\n",
    "print(\"no_1_player : \", no_1_player)\n",
    "#print('type of no_1_player is', type(no_1_player))"
   ]
  },
  {
   "cell_type": "markdown",
   "metadata": {},
   "source": [
    "### Mathematical operations"
   ]
  },
  {
   "cell_type": "code",
   "execution_count": 55,
   "metadata": {},
   "outputs": [
    {
     "name": "stdout",
     "output_type": "stream",
     "text": [
      "a+b =  5\n",
      "a*b =  6\n",
      "a-b =  -1\n",
      "a%b =  2\n",
      "a/b =  0.6666666666666666\n",
      "a//b =  0\n",
      "a**b =  8\n"
     ]
    }
   ],
   "source": [
    "a = 2 #integer\n",
    "b = 3 #integer \n",
    "\n",
    "# Addition\n",
    "print(\"a+b = \", a+b) \n",
    "\n",
    "# Multiplication\n",
    "print(\"a*b = \", a*b) \n",
    "\n",
    "# Subtraction\n",
    "print(\"a-b = \", a-b) \n",
    "\n",
    "# Modulus: Divides left hand operand by right hand operand and returns remainder\n",
    "print(\"a%b = \", a%b) \n",
    "\n",
    "# Division\n",
    "print(\"a/b = \", a/b)\n",
    "\n",
    "# Floor Division - The division of operands \n",
    "# where the result is the quotient in which \n",
    "# the digits after the decimal point are removed. \n",
    "# But if one of the operands is negative, the result is floored, \n",
    "# i.e., rounded away from zero (towards negative infinity)\n",
    "print(\"a//b = \", a//b) \n",
    "\n",
    "# Exponent: Performs exponential (power) calculation on operators\n",
    "print(\"a**b = \", a**b) "
   ]
  },
  {
   "cell_type": "markdown",
   "metadata": {},
   "source": [
    "### Comparison Operators"
   ]
  },
  {
   "cell_type": "code",
   "execution_count": 56,
   "metadata": {},
   "outputs": [
    {
     "name": "stdout",
     "output_type": "stream",
     "text": [
      "a == b :  False\n",
      "a != b :  True\n",
      "a >= b :  False\n",
      "a <= b :  True\n",
      "a > b  :  False\n",
      "a < b  :  True\n"
     ]
    }
   ],
   "source": [
    "a = -1\n",
    "b = 1\n",
    "\n",
    "print(\"a == b : \", a == b)\n",
    "print(\"a != b : \", a != b)\n",
    "print(\"a >= b : \", a >= b)\n",
    "print(\"a <= b : \", a <= b)\n",
    "print(\"a > b  : \", a > b)\n",
    "print(\"a < b  : \", a < b)"
   ]
  },
  {
   "cell_type": "code",
   "execution_count": null,
   "metadata": {},
   "outputs": [],
   "source": []
  }
 ],
 "metadata": {
  "kernelspec": {
   "display_name": "Python 3",
   "language": "python",
   "name": "python3"
  },
  "language_info": {
   "codemirror_mode": {
    "name": "ipython",
    "version": 3
   },
   "file_extension": ".py",
   "mimetype": "text/x-python",
   "name": "python",
   "nbconvert_exporter": "python",
   "pygments_lexer": "ipython3",
   "version": "3.7.6"
  }
 },
 "nbformat": 4,
 "nbformat_minor": 4
}
