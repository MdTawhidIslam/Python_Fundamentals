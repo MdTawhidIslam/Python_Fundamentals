{
 "cells": [
  {
   "cell_type": "markdown",
   "metadata": {},
   "source": [
    "# Lecture 03: Python data structure, conditional logic and loop\n",
    "\n",
    "Instructor:\n",
    "<br>**Md Shahidullah Kawsar**\n",
    "<br>Data Scientist\n",
    "<br>IDARE, Houston, TX, USA\n",
    "\n",
    "#### Objectives:\n",
    "1. \n",
    "\n",
    "\n",
    "#### References: \n",
    "1. "
   ]
  },
  {
   "cell_type": "code",
   "execution_count": 33,
   "metadata": {},
   "outputs": [
    {
     "name": "stdout",
     "output_type": "stream",
     "text": [
      "[['abul', 'babul', 'cabul', 'dabul'], [1111, 2222, 3333, 4444]]\n",
      "['abul', 'babul', 'cabul', 'dabul']\n",
      "[1111, 2222, 3333, 4444]\n",
      "abul\n",
      "1111\n"
     ]
    }
   ],
   "source": [
    "name = [\"abul\", \"babul\", \"cabul\", \"dabul\"]\n",
    "contact = [1111, 2222, 3333, 4444]\n",
    "\n",
    "phone_contacts = [name, contact]\n",
    "print(phone_contacts)\n",
    "\n",
    "print(phone_contacts[0])\n",
    "print(phone_contacts[1])\n",
    "print(phone_contacts[0][0])\n",
    "print(phone_contacts[1][0])"
   ]
  },
  {
   "cell_type": "code",
   "execution_count": 34,
   "metadata": {},
   "outputs": [
    {
     "name": "stdout",
     "output_type": "stream",
     "text": [
      "2\n",
      "4\n",
      "4\n",
      "5\n"
     ]
    }
   ],
   "source": [
    "print(len(phone_contacts))\n",
    "print(len(phone_contacts[0]))\n",
    "print(len(phone_contacts[1]))\n",
    "print(len(phone_contacts[0][1]))"
   ]
  },
  {
   "cell_type": "code",
   "execution_count": 17,
   "metadata": {},
   "outputs": [
    {
     "data": {
      "text/plain": [
       "True"
      ]
     },
     "execution_count": 17,
     "metadata": {},
     "output_type": "execute_result"
    }
   ],
   "source": [
    "\"abul\" not in phone_contacts"
   ]
  },
  {
   "cell_type": "code",
   "execution_count": 18,
   "metadata": {},
   "outputs": [
    {
     "name": "stdout",
     "output_type": "stream",
     "text": [
      "[2, 4, 0, 6, 8, 10]\n"
     ]
    }
   ],
   "source": [
    "even = [2, 4, 6, 8, 10]\n",
    "even.insert(2, 0)\n",
    "print(even)"
   ]
  },
  {
   "cell_type": "code",
   "execution_count": 19,
   "metadata": {},
   "outputs": [
    {
     "name": "stdout",
     "output_type": "stream",
     "text": [
      "[2, 4, 0, 6, 8, 10, 12]\n"
     ]
    }
   ],
   "source": [
    "even.append(12)\n",
    "\n",
    "print(even)"
   ]
  },
  {
   "cell_type": "code",
   "execution_count": 57,
   "metadata": {},
   "outputs": [
    {
     "name": "stdout",
     "output_type": "stream",
     "text": [
      "[7, 8, 4, -9, 9, 3, -1, -1, 0]\n",
      "2\n",
      "[7, 8, 4, -9, 9, 3, -1, 0]\n",
      "9\n",
      "-9\n",
      "21\n",
      "[9, 8, 7, 6, 99, 88, 77, 66]\n",
      "[9, 8, 7, 6, 9, 8, 7, 6]\n",
      "[6, 7, 8, 9]\n",
      "[9, 8, 7, 6]\n"
     ]
    }
   ],
   "source": [
    "nums = [0,-1,-1,3,9,-9,4,8,7]\n",
    "nums.reverse()\n",
    "print(nums)\n",
    "\n",
    "print(nums.count(-1))\n",
    "\n",
    "nums.remove(-1)\n",
    "print(nums)\n",
    "\n",
    "print(max(nums))\n",
    "print(min(nums))\n",
    "print(sum(nums))\n",
    "\n",
    "A = [9, 8, 7, 6]\n",
    "B = [99, 88, 77, 66]\n",
    "print(A + B) #will contain all the element of A and B\n",
    "print(A*2) # Will put all the element of A twice\n",
    "\n",
    "print(sorted(A, reverse= False))\n",
    "print(sorted(A, reverse= True))"
   ]
  },
  {
   "cell_type": "markdown",
   "metadata": {},
   "source": [
    "### Tuple\n",
    "tuple is 'almost' like list but there are some differences\n",
    "\n",
    "1. tuple is used with parentheses\n",
    "2. tuple is immutable --> most important\n",
    "<br>tuple is used mostly for record keeping sort of things."
   ]
  },
  {
   "cell_type": "code",
   "execution_count": 58,
   "metadata": {},
   "outputs": [
    {
     "name": "stdout",
     "output_type": "stream",
     "text": [
      "<class 'tuple'>\n"
     ]
    }
   ],
   "source": [
    "a = ('the', 'fault', 'in', 'our', 'stars')\n",
    "print(type(a))"
   ]
  },
  {
   "cell_type": "code",
   "execution_count": 59,
   "metadata": {},
   "outputs": [
    {
     "name": "stdout",
     "output_type": "stream",
     "text": [
      "the\n",
      "stars\n",
      "('fault', 'in')\n"
     ]
    }
   ],
   "source": [
    "print(a[0])\n",
    "print(a[-1])\n",
    "print(a[1:3])"
   ]
  },
  {
   "cell_type": "code",
   "execution_count": 60,
   "metadata": {},
   "outputs": [
    {
     "ename": "TypeError",
     "evalue": "'tuple' object does not support item assignment",
     "output_type": "error",
     "traceback": [
      "\u001b[0;31m---------------------------------------------------------------------------\u001b[0m",
      "\u001b[0;31mTypeError\u001b[0m                                 Traceback (most recent call last)",
      "\u001b[0;32m<ipython-input-60-b4d9886fe7cd>\u001b[0m in \u001b[0;36m<module>\u001b[0;34m\u001b[0m\n\u001b[1;32m      1\u001b[0m \u001b[0;31m# immutability\u001b[0m\u001b[0;34m\u001b[0m\u001b[0;34m\u001b[0m\u001b[0;34m\u001b[0m\u001b[0m\n\u001b[1;32m      2\u001b[0m \u001b[0mT\u001b[0m \u001b[0;34m=\u001b[0m \u001b[0;34m(\u001b[0m\u001b[0;36m8\u001b[0m\u001b[0;34m,\u001b[0m \u001b[0;36m9\u001b[0m\u001b[0;34m,\u001b[0m \u001b[0;34m'absolute'\u001b[0m\u001b[0;34m,\u001b[0m \u001b[0;34m[\u001b[0m\u001b[0;36m1\u001b[0m\u001b[0;34m,\u001b[0m \u001b[0;36m2\u001b[0m\u001b[0;34m]\u001b[0m\u001b[0;34m)\u001b[0m\u001b[0;34m\u001b[0m\u001b[0;34m\u001b[0m\u001b[0m\n\u001b[0;32m----> 3\u001b[0;31m \u001b[0mT\u001b[0m\u001b[0;34m[\u001b[0m\u001b[0;36m0\u001b[0m\u001b[0;34m]\u001b[0m \u001b[0;34m=\u001b[0m \u001b[0;36m2\u001b[0m \u001b[0;31m#will throw an error\u001b[0m\u001b[0;34m\u001b[0m\u001b[0;34m\u001b[0m\u001b[0m\n\u001b[0m",
      "\u001b[0;31mTypeError\u001b[0m: 'tuple' object does not support item assignment"
     ]
    }
   ],
   "source": [
    "# immutability\n",
    "T = (8, 9, 'absolute', [1, 2])\n",
    "T[0] = 2 #will throw an error"
   ]
  },
  {
   "cell_type": "markdown",
   "metadata": {},
   "source": [
    "**You cannot change any value inside a tuple and you cannot insert or delete as well**"
   ]
  },
  {
   "cell_type": "code",
   "execution_count": 61,
   "metadata": {},
   "outputs": [
    {
     "name": "stdout",
     "output_type": "stream",
     "text": [
      "3\n",
      "7\n",
      "1\n",
      "10\n",
      "1\n"
     ]
    }
   ],
   "source": [
    "#some functions that can be used with tuple\n",
    "Z = (2, 7, 1)\n",
    "print(len(Z))\n",
    "print(max(Z))\n",
    "print(min(Z))\n",
    "print(sum(Z))\n",
    "print(Z.count(2))"
   ]
  },
  {
   "cell_type": "markdown",
   "metadata": {},
   "source": [
    "### Set\n",
    "<br>It works with a curly brace--> {}\n",
    "<br>One item can appear only once\n",
    "<br>You cannot slice item from set, unlike lists or tuples"
   ]
  },
  {
   "cell_type": "code",
   "execution_count": 65,
   "metadata": {},
   "outputs": [
    {
     "name": "stdout",
     "output_type": "stream",
     "text": [
      "{12, 13, 14}\n",
      "<class 'set'>\n",
      "3\n",
      "[12, 13, 14]\n",
      "{1, 2, 3, 4, 5, 7, 9}\n",
      "{1, 9, 7}\n",
      "{3, 5}\n"
     ]
    }
   ],
   "source": [
    "A = {12, 13, 14, 12}\n",
    "print(A) #automatically removes the multiple-occurred element\n",
    "print(type(A))\n",
    "print(len(A))\n",
    "# print(len(A[0]))\n",
    "\n",
    "# convert to list\n",
    "A_converted = list(A)\n",
    "print(A_converted)\n",
    "\n",
    "A = {1, 3, 5, 7, 9}\n",
    "B = {1, 2, 4, 7, 9}\n",
    "\n",
    "print(A.union(B))\n",
    "print(A.intersection(B))\n",
    "print(A.difference(B))"
   ]
  },
  {
   "cell_type": "code",
   "execution_count": 81,
   "metadata": {},
   "outputs": [
    {
     "name": "stdout",
     "output_type": "stream",
     "text": [
      "{'abul': 1111, 'babul': 2222, 'cabul': 3333, 'dabul': 4444}\n",
      "1111\n",
      "2222\n",
      "3333\n",
      "4444\n",
      "dict_keys(['abul', 'babul', 'cabul', 'dabul'])\n",
      "dict_values([1111, 2222, 3333, 4444])\n"
     ]
    }
   ],
   "source": [
    "phone_contacts = {\"abul\":1111, \"babul\":2222, \"cabul\":3333, \"dabul\":4444}\n",
    "\n",
    "print(phone_contacts)\n",
    "print(phone_contacts[\"abul\"])\n",
    "print(phone_contacts[\"babul\"])\n",
    "print(phone_contacts[\"cabul\"])\n",
    "print(phone_contacts[\"dabul\"])\n",
    "\n",
    "print(phone_contacts.keys())\n",
    "print(phone_contacts.values())\n",
    "# print(phone_contacts.items())"
   ]
  },
  {
   "cell_type": "code",
   "execution_count": 82,
   "metadata": {},
   "outputs": [
    {
     "name": "stdout",
     "output_type": "stream",
     "text": [
      "{'abul': 1111, 'babul': 2222, 'cabul': 3333, 'dabul': [4444, 5555]}\n"
     ]
    }
   ],
   "source": [
    "phone_contacts[\"dabul\"] = [4444,5555]\n",
    "print(phone_contacts)"
   ]
  },
  {
   "cell_type": "code",
   "execution_count": 83,
   "metadata": {},
   "outputs": [
    {
     "name": "stdout",
     "output_type": "stream",
     "text": [
      "{'abul': 1111, 'babul': 2222, 'cabul': 3333, 'dabul': [4444, 5555], 'fabul': 6666}\n"
     ]
    }
   ],
   "source": [
    "phone_contacts[\"fabul\"] = 6666\n",
    "print(phone_contacts)"
   ]
  },
  {
   "cell_type": "code",
   "execution_count": 84,
   "metadata": {},
   "outputs": [
    {
     "name": "stdout",
     "output_type": "stream",
     "text": [
      "{'abul': 1111, 'babul': 2222, 'cabul': 3333, 'dabul': [4444, 5555], 'fabul': 6666, 'gabul': 7777}\n"
     ]
    }
   ],
   "source": [
    "new_dict = {\"gabul\":7777}\n",
    "phone_contacts.update(new_dict)\n",
    "print(phone_contacts)"
   ]
  },
  {
   "cell_type": "code",
   "execution_count": 85,
   "metadata": {},
   "outputs": [
    {
     "name": "stdout",
     "output_type": "stream",
     "text": [
      "{'abul': 1111, 'babul': 2222, 'cabul': 3333, 'dabul': [4444, 5555], 'fabul': 6666}\n"
     ]
    }
   ],
   "source": [
    "del phone_contacts[\"gabul\"]\n",
    "print(phone_contacts)"
   ]
  },
  {
   "cell_type": "markdown",
   "metadata": {},
   "source": [
    "### Summary\n",
    "\n",
    "- List - indexed storage\n",
    "- Dictionary - Logical Association storage, useful for params\n",
    "- Tuple - Memory optimized and Secure data storage\n",
    "- Set - unindexed data storage, widely useful for removing redundancy and mathematics ops"
   ]
  },
  {
   "cell_type": "code",
   "execution_count": 113,
   "metadata": {},
   "outputs": [
    {
     "name": "stdout",
     "output_type": "stream",
     "text": [
      "[-1, 2, 5, 8, 11, 14, 17, 20, 23, 26, 29, 32, 35, 38, 41, 44, 47, 50, 53, 56, 59, 62, 65, 68, 71, 74, 77, 80, 83, 86, 89, 92, 95, 98, 101, 104, 107, 110, 113, 116, 119, 122, 125, 128, 131, 134, 137, 140, 143, 146, 149, 152, 155, 158, 161, 164, 167, 170, 173, 176, 179, 182, 185, 188, 191, 194, 197]\n"
     ]
    }
   ],
   "source": [
    "nums = []\n",
    "for i in range(-1,200,3):\n",
    "#     print(i)\n",
    "    nums.append(i)\n",
    "#     print(nums)\n",
    "    \n",
    "print(nums)"
   ]
  },
  {
   "cell_type": "code",
   "execution_count": 112,
   "metadata": {},
   "outputs": [
    {
     "name": "stdout",
     "output_type": "stream",
     "text": [
      "1 even =  False\n",
      "2 even =  True\n",
      "3 even =  False\n",
      "4 even =  True\n",
      "5 even =  False\n",
      "6 even =  True\n",
      "7 even =  False\n",
      "8 even =  True\n",
      "9 even =  False\n",
      "10 even =  True\n"
     ]
    }
   ],
   "source": [
    "even = [1,2,3,4,5,6,7,8,9,10]\n",
    "\n",
    "for i in even:\n",
    "    if i % 2 == 0:\n",
    "        print(i, \"even = \", True)\n",
    "    else:\n",
    "        print(i, \"even = \", False)"
   ]
  },
  {
   "cell_type": "code",
   "execution_count": 93,
   "metadata": {},
   "outputs": [
    {
     "name": "stdout",
     "output_type": "stream",
     "text": [
      "i =  0 i+1 =  1 num =  [1] sum =  1\n",
      "i =  1 i+1 =  2 num =  [1, 2] sum =  3\n",
      "i =  2 i+1 =  3 num =  [1, 2, 3] sum =  6\n",
      "[1, 3, 6]\n"
     ]
    }
   ],
   "source": [
    "nums = [1,2,3]\n",
    "sum_list = []\n",
    "for i in range(len(nums)):\n",
    "    print(\"i = \", i,  \"i+1 = \", i+1, \"num = \", nums[:i+1], \"sum = \", sum(nums[:i+1]))\n",
    "    \n",
    "    sum_list.append(sum(nums[:i+1]))\n",
    "\n",
    "print(sum_list)"
   ]
  },
  {
   "cell_type": "code",
   "execution_count": null,
   "metadata": {},
   "outputs": [],
   "source": []
  },
  {
   "cell_type": "code",
   "execution_count": null,
   "metadata": {},
   "outputs": [],
   "source": []
  },
  {
   "cell_type": "code",
   "execution_count": null,
   "metadata": {},
   "outputs": [],
   "source": []
  },
  {
   "cell_type": "code",
   "execution_count": null,
   "metadata": {},
   "outputs": [],
   "source": []
  },
  {
   "cell_type": "code",
   "execution_count": null,
   "metadata": {},
   "outputs": [],
   "source": []
  },
  {
   "cell_type": "markdown",
   "metadata": {},
   "source": [
    "#### LeetCode Problem 01: Defanging an IP Address\n",
    "\n",
    "Given a valid (IPv4) IP address, return a defanged version of that IP address.\n",
    "\n",
    "A defanged IP address replaces every period \".\" with \"[.]\"\n",
    "\n",
    "**Example 1:**\n",
    "<br>Input: address = \"1.1.1.1\"\n",
    "<br>Output: \"1[.]1[.]1[.]1\"\n",
    "\n",
    "**Example 2:**\n",
    "<br>Input: address = \"255.100.50.0\"\n",
    "<br>Output: \"255[.]100[.]50[.]0\""
   ]
  },
  {
   "cell_type": "code",
   "execution_count": 1,
   "metadata": {},
   "outputs": [
    {
     "name": "stdout",
     "output_type": "stream",
     "text": [
      "1[.]1[.]1[.]1\n",
      "255[.]100[.]50[.]0\n"
     ]
    }
   ],
   "source": [
    "def defangIPaddr(address):\n",
    "    \"\"\"\n",
    "    :type address: str\n",
    "    :rtype: str\n",
    "    \"\"\"\n",
    "    return address.replace('.', '[.]')\n",
    "\n",
    "example_1 = defangIPaddr(\"1.1.1.1\")\n",
    "print(example_1)\n",
    "\n",
    "example_2 = defangIPaddr(\"255.100.50.0\")\n",
    "print(example_2)"
   ]
  },
  {
   "cell_type": "markdown",
   "metadata": {},
   "source": [
    "#### LeetCode Problem 02: Goal Parser Interpretation\n",
    "\n",
    "You own a Goal Parser that can interpret a string command. The command consists of an alphabet of \"G\", \"()\" and/or \"(al)\" in some order. The Goal Parser will interpret \"G\" as the string \"G\", \"()\" as the string \"o\", and \"(al)\" as the string \"al\". The interpreted strings are then concatenated in the original order.\n",
    "\n",
    "Given the string command, return the Goal Parser's interpretation of command.\n",
    "\n",
    "**Example 1:**\n",
    "<br>Input: command = \"G()(al)\"\n",
    "<br>Output: \"Goal\"\n",
    "Explanation: The Goal Parser interprets the command as follows:\n",
    "G -> G\n",
    "() -> o\n",
    "(al) -> al\n",
    "The final concatenated result is \"Goal\".\n",
    "\n",
    "**Example 2:**\n",
    "<br>Input: command = \"G()()()()(al)\"\n",
    "<br>Output: \"Gooooal\"\n",
    "\n",
    "**Example 3:**\n",
    "<br>Input: command = \"(al)G(al)()()G\"\n",
    "<br>Output: \"alGalooG\""
   ]
  },
  {
   "cell_type": "code",
   "execution_count": 2,
   "metadata": {},
   "outputs": [
    {
     "name": "stdout",
     "output_type": "stream",
     "text": [
      "Goal\n",
      "Gooooal\n",
      "alGalooG\n"
     ]
    }
   ],
   "source": [
    "def interpret(command):\n",
    "    \"\"\"\n",
    "    :type command: str\n",
    "    :rtype: str\n",
    "    \"\"\"\n",
    "    command = command.replace('()', 'o')\n",
    "    command = command.replace('(al)', 'al')\n",
    "\n",
    "    return command\n",
    "\n",
    "example_1 = interpret(\"G()(al)\")\n",
    "print(example_1)\n",
    "\n",
    "example_2 = interpret(\"G()()()()(al)\")\n",
    "print(example_2)\n",
    "\n",
    "example_3 = interpret(\"(al)G(al)()()G\")\n",
    "print(example_3)"
   ]
  },
  {
   "cell_type": "markdown",
   "metadata": {},
   "source": [
    "#### LeetCode Problem 03: Check If Two String Arrays are Equivalent\n",
    "Given two string arrays word1 and word2, return true if the two arrays represent the same string, and false otherwise.\n",
    "\n",
    "A string is represented by an array if the array elements concatenated in order forms the string.\n",
    "\n",
    "**Example 1:**\n",
    "<br>Input: word1 = [\"ab\", \"c\"], word2 = [\"a\", \"bc\"]\n",
    "<br>Output: true\n",
    "<br>Explanation:\n",
    "<br>word1 represents string \"ab\" + \"c\" -> \"abc\"\n",
    "<br>word2 represents string \"a\" + \"bc\" -> \"abc\"\n",
    "<br>The strings are the same, so return true.\n",
    "\n",
    "**Example 2:**\n",
    "<br>Input: word1 = [\"a\", \"cb\"], word2 = [\"ab\", \"c\"]\n",
    "<br>Output: false\n",
    "\n",
    "**Example 3:**\n",
    "<br>Input: word1  = [\"abc\", \"d\", \"defg\"], word2 = [\"abcddefg\"]\n",
    "<br>Output: true"
   ]
  },
  {
   "cell_type": "code",
   "execution_count": 3,
   "metadata": {},
   "outputs": [
    {
     "name": "stdout",
     "output_type": "stream",
     "text": [
      "True\n",
      "False\n",
      "True\n"
     ]
    }
   ],
   "source": [
    "def arrayStringsAreEqual(word1, word2):\n",
    "\n",
    "    return \"\".join(word1) == \"\".join(word2)\n",
    "\n",
    "example_1 = arrayStringsAreEqual([\"ab\", \"c\"], [\"a\", \"bc\"])\n",
    "print(example_1)\n",
    "\n",
    "example_2 = arrayStringsAreEqual([\"a\", \"cb\"], [\"ab\", \"c\"])\n",
    "print(example_2)\n",
    "\n",
    "example_3 = arrayStringsAreEqual( [\"abc\", \"d\", \"defg\"], [\"abcddefg\"])\n",
    "print(example_3)"
   ]
  },
  {
   "cell_type": "code",
   "execution_count": null,
   "metadata": {},
   "outputs": [],
   "source": []
  },
  {
   "cell_type": "code",
   "execution_count": null,
   "metadata": {},
   "outputs": [],
   "source": []
  }
 ],
 "metadata": {
  "kernelspec": {
   "display_name": "Python 3",
   "language": "python",
   "name": "python3"
  },
  "language_info": {
   "codemirror_mode": {
    "name": "ipython",
    "version": 3
   },
   "file_extension": ".py",
   "mimetype": "text/x-python",
   "name": "python",
   "nbconvert_exporter": "python",
   "pygments_lexer": "ipython3",
   "version": "3.8.5"
  }
 },
 "nbformat": 4,
 "nbformat_minor": 4
}
