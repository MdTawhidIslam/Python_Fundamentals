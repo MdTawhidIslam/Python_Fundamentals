{
 "cells": [
  {
   "cell_type": "markdown",
   "metadata": {},
   "source": [
    "# Lecture 5: LeetCode problems\n",
    "\n",
    "Instructor:\n",
    "<br>**Md Shahidullah Kawsar**\n",
    "<br>Data Scientist\n",
    "<br>IDARE, Houston, TX, USA\n",
    "\n",
    "#### References\n",
    "1. https://leetcode.com/problems/maximum-product-of-three-numbers/\n",
    "2. https://leetcode.com/problems/richest-customer-wealth/\n",
    "3. https://leetcode.com/problems/shuffle-the-array/\n",
    "4. https://leetcode.com/problems/valid-perfect-square/\n"
   ]
  },
  {
   "cell_type": "markdown",
   "metadata": {},
   "source": [
    "**HW4 Problem 1: Maximum Product of Three Numbers**\n",
    "\n",
    "Given an integer array nums, find three numbers whose product is maximum and return the maximum product.\n",
    "\n",
    "**Example 1:**\n",
    "<br>Input: nums = [1,2,3]\n",
    "<br>Output: 6\n",
    "\n",
    "**Example 2:**\n",
    "<br>Input: nums = [1,2,3,4]\n",
    "<br>Output: 24\n",
    "\n",
    "**Example 3:**\n",
    "<br>Input: nums = [-1,-2,-3]\n",
    "<br>Output: -6"
   ]
  },
  {
   "cell_type": "code",
   "execution_count": 1,
   "metadata": {},
   "outputs": [],
   "source": [
    "example = [-1,2,4,4]\n",
    "\n",
    "def maximumProduct(nums):\n",
    "    \n",
    "    nums = sorted(nums)\n",
    "    print(\"sorted nums = \", nums)\n",
    "    \n",
    "    prod_1 = nums[0]*nums[1]*nums[-1]\n",
    "    print(\"prod_1 = \", prod_1)\n",
    "    prod_2 = nums[-1]*nums[-2]*nums[-3]\n",
    "    print(\"prod_2 = \", prod_2)\n",
    "    \n",
    "    return max(prod_1, prod_2)\n",
    "    "
   ]
  },
  {
   "cell_type": "code",
   "execution_count": 2,
   "metadata": {},
   "outputs": [
    {
     "name": "stdout",
     "output_type": "stream",
     "text": [
      "sorted nums =  [1, 2, 3]\n",
      "prod_1 =  6\n",
      "prod_2 =  6\n",
      "6\n",
      "----------------------------------------\n",
      "sorted nums =  [1, 2, 3, 4]\n",
      "prod_1 =  8\n",
      "prod_2 =  24\n",
      "24\n",
      "----------------------------------------\n",
      "sorted nums =  [-4, -2, -1, 1, 2, 6]\n",
      "prod_1 =  48\n",
      "prod_2 =  12\n",
      "48\n"
     ]
    }
   ],
   "source": [
    "p1_example_1 = maximumProduct([1,2,3])\n",
    "print(p1_example_1)\n",
    "print(\"----------------------------------------\")\n",
    "\n",
    "p1_example_2 = maximumProduct([1,2,3,4])\n",
    "print(p1_example_2)\n",
    "print(\"----------------------------------------\")\n",
    "\n",
    "p1_example_3 = maximumProduct([-1,-2,-4,1,2,6])\n",
    "print(p1_example_3)"
   ]
  },
  {
   "cell_type": "markdown",
   "metadata": {},
   "source": [
    "**HW4 Problem 2: 1672. Richest Customer Wealth**\n",
    "\n",
    "You are given an m x n integer grid accounts where accounts[i][j] is the amount of money the i-th customer has in the j-th bank. Return the wealth that the richest customer has.\n",
    "\n",
    "A customer's wealth is the amount of money they have in all their bank accounts. The richest customer is the customer that has the maximum wealth.\n",
    "\n",
    "**Example 1:**\n",
    "<br>Input: accounts = [[1,2,3],[3,2,1]]\n",
    "<br>Output: 6\n",
    "<br>Explanation:\n",
    "<br>1st customer has wealth = 1 + 2 + 3 = 6\n",
    "<br>2nd customer has wealth = 3 + 2 + 1 = 6\n",
    "<br>Both customers are considered the richest with a wealth of 6 each, so return 6.\n",
    "\n",
    "**Example 2:**\n",
    "<br>Input: accounts = [[1,5],[7,3],[3,5]]\n",
    "<br>Output: 10\n",
    "<br>Explanation: \n",
    "<br>1st customer has wealth = 6\n",
    "<br>2nd customer has wealth = 10 \n",
    "<br>3rd customer has wealth = 8\n",
    "<br>The 2nd customer is the richest with a wealth of 10.\n",
    "\n",
    "**Example 3:**\n",
    "<br>Input: accounts = [[2,8,7],[7,1,3],[1,9,5]]\n",
    "<br>Output: 17"
   ]
  },
  {
   "cell_type": "code",
   "execution_count": 3,
   "metadata": {},
   "outputs": [],
   "source": [
    "def maximumWealth(accounts):\n",
    "    \n",
    "    wealth = []\n",
    "    \n",
    "    for element in range(len(accounts)):\n",
    "        \n",
    "        print(accounts[element])\n",
    "        \n",
    "        wealth.append(sum(accounts[element]))\n",
    "        \n",
    "    print(\"wealth = \", wealth)\n",
    "    return max(wealth)\n",
    "        "
   ]
  },
  {
   "cell_type": "code",
   "execution_count": 4,
   "metadata": {},
   "outputs": [
    {
     "name": "stdout",
     "output_type": "stream",
     "text": [
      "[1, 2, 3]\n",
      "[3, 2, 1]\n",
      "wealth =  [6, 6]\n",
      "6\n",
      "----------------------------------------\n",
      "[1, 5]\n",
      "[7, 3]\n",
      "[3, 5]\n",
      "wealth =  [6, 10, 8]\n",
      "10\n",
      "----------------------------------------\n",
      "[2, 8, 7]\n",
      "[7, 1, 3]\n",
      "[1, 9, 5]\n",
      "wealth =  [17, 11, 15]\n",
      "17\n"
     ]
    }
   ],
   "source": [
    "p2_example_1 = maximumWealth([[1,2,3],[3,2,1]])\n",
    "print(p2_example_1)\n",
    "print(\"----------------------------------------\")\n",
    "\n",
    "p2_example_2 = maximumWealth([[1,5],[7,3],[3,5]])\n",
    "print(p2_example_2)\n",
    "print(\"----------------------------------------\")\n",
    "\n",
    "p2_example_3 = maximumWealth([[2,8,7],[7,1,3],[1,9,5]])\n",
    "print(p2_example_3)"
   ]
  },
  {
   "cell_type": "markdown",
   "metadata": {},
   "source": [
    "**HW4 Problem 3: Shuffle the Array**\n",
    "\n",
    "Given the array nums consisting of 2n elements in the form [x_1,x_2,...,x_n,y_1,y_2,...,y_n].\n",
    "\n",
    "Return the array in the form [x_1,y_1,x_2,y_2,...,x_n,y_n].\n",
    "\n",
    "**Example 1:**\n",
    "<br>Input: nums = [2,5,1,3,4,7], n = 3\n",
    "<br>Output: [2,3,5,4,1,7] \n",
    "<br>Explanation: Since x1=2, x2=5, x3=1, y1=3, y2=4, y3=7 then the answer is [2,3,5,4,1,7].\n",
    "\n",
    "**Example 2:**\n",
    "<br>Input: nums = [1,2,3,4,4,3,2,1], n = 4\n",
    "<br>Output: [1,4,2,3,3,2,4,1]\n",
    "\n",
    "**Example 3:**\n",
    "<br>Input: nums = [1,1,2,2], n = 2\n",
    "<br>Output: [1,2,1,2]"
   ]
  },
  {
   "cell_type": "code",
   "execution_count": 5,
   "metadata": {},
   "outputs": [],
   "source": [
    "def shuffle(nums, n):\n",
    "    \n",
    "    first_half = nums[:n]\n",
    "    last_half = nums[n:]\n",
    "    \n",
    "    shuffle = []\n",
    "    \n",
    "    for i in range(n):\n",
    "        shuffle.append(first_half[i])\n",
    "        \n",
    "        print(\"after adding first half = \", shuffle)\n",
    "        \n",
    "        shuffle.append(last_half[i])\n",
    "        \n",
    "        print(\"after adding last half = \", shuffle)\n",
    "        \n",
    "    return shuffle\n",
    "    "
   ]
  },
  {
   "cell_type": "code",
   "execution_count": 6,
   "metadata": {},
   "outputs": [
    {
     "name": "stdout",
     "output_type": "stream",
     "text": [
      "after adding first half =  [2]\n",
      "after adding last half =  [2, 3]\n",
      "after adding first half =  [2, 3, 5]\n",
      "after adding last half =  [2, 3, 5, 4]\n",
      "after adding first half =  [2, 3, 5, 4, 1]\n",
      "after adding last half =  [2, 3, 5, 4, 1, 7]\n",
      "[2, 3, 5, 4, 1, 7]\n",
      "----------------------------------------\n",
      "after adding first half =  [1]\n",
      "after adding last half =  [1, 4]\n",
      "after adding first half =  [1, 4, 2]\n",
      "after adding last half =  [1, 4, 2, 3]\n",
      "after adding first half =  [1, 4, 2, 3, 3]\n",
      "after adding last half =  [1, 4, 2, 3, 3, 2]\n",
      "after adding first half =  [1, 4, 2, 3, 3, 2, 4]\n",
      "after adding last half =  [1, 4, 2, 3, 3, 2, 4, 1]\n",
      "[1, 4, 2, 3, 3, 2, 4, 1]\n",
      "----------------------------------------\n",
      "after adding first half =  [1]\n",
      "after adding last half =  [1, 2]\n",
      "after adding first half =  [1, 2, 1]\n",
      "after adding last half =  [1, 2, 1, 2]\n",
      "[1, 2, 1, 2]\n"
     ]
    }
   ],
   "source": [
    "p3_example_1 = shuffle([2,5,1,3,4,7], 3)\n",
    "print(p3_example_1)\n",
    "print(\"----------------------------------------\")\n",
    "\n",
    "p3_example_2 = shuffle([1,2,3,4,4,3,2,1], 4)\n",
    "print(p3_example_2)\n",
    "print(\"----------------------------------------\")\n",
    "\n",
    "p3_example_3 = shuffle([1,1,2,2], 2)\n",
    "print(p3_example_3)"
   ]
  },
  {
   "cell_type": "markdown",
   "metadata": {},
   "source": [
    "**HW4 Problem 4: Valid Perfect Square**\n",
    "\n",
    "Given a positive integer num, write a function which returns True if num is a perfect square else False.\n",
    "\n",
    "**Example 1:**\n",
    "<br>Input: num = 16\n",
    "<br>Output: true\n",
    "\n",
    "**Example 2:**\n",
    "<br>Input: num = 14\n",
    "<br>Output: false"
   ]
  },
  {
   "cell_type": "code",
   "execution_count": 7,
   "metadata": {},
   "outputs": [],
   "source": [
    "def isPerfectSquare(num):\n",
    "    \n",
    "    print(\"square root = \", num**0.5)\n",
    "    \n",
    "    print(\"square root (integer part only) = \", int(num**0.5))\n",
    "    \n",
    "    return int(num**0.5) == num**0.5\n"
   ]
  },
  {
   "cell_type": "code",
   "execution_count": 8,
   "metadata": {},
   "outputs": [
    {
     "name": "stdout",
     "output_type": "stream",
     "text": [
      "square root =  3.7416573867739413\n",
      "square root (integer part only) =  3\n",
      "False\n",
      "----------------------------------------\n",
      "square root =  3.7416573867739413\n",
      "square root (integer part only) =  3\n",
      "False\n"
     ]
    }
   ],
   "source": [
    "p4_example_1 = isPerfectSquare(14)\n",
    "print(p4_example_1)\n",
    "print(\"----------------------------------------\")\n",
    "\n",
    "p4_example_2 = isPerfectSquare(14)\n",
    "print(p4_example_2)"
   ]
  },
  {
   "cell_type": "code",
   "execution_count": null,
   "metadata": {},
   "outputs": [],
   "source": []
  }
 ],
 "metadata": {
  "kernelspec": {
   "display_name": "Python 3",
   "language": "python",
   "name": "python3"
  },
  "language_info": {
   "codemirror_mode": {
    "name": "ipython",
    "version": 3
   },
   "file_extension": ".py",
   "mimetype": "text/x-python",
   "name": "python",
   "nbconvert_exporter": "python",
   "pygments_lexer": "ipython3",
   "version": "3.7.6"
  }
 },
 "nbformat": 4,
 "nbformat_minor": 4
}
