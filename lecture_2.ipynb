{
 "cells": [
  {
   "cell_type": "markdown",
   "metadata": {},
   "source": [
    "# Lecture 02: Python Lists, ans String Manipulation\n",
    "\n",
    "Instructor:\n",
    "<br>**Md Shahidullah Kawsar**\n",
    "<br>Data Scientist\n",
    "<br>IDARE, Houston, TX, USA\n",
    "\n",
    "#### Objectives:\n",
    "1. Python List, slicing, chaning, adding and removing list elements\n",
    "2. \n",
    "\n",
    "#### References: \n",
    "1. https://blockly.games/\n",
    "2. Python - Basic Operators: https://www.tutorialspoint.com/python/python_basic_operators.htm\n",
    "3. Data Science workshop: https://github.com/sadat1971/Conducting-Workshop-DATA-SCIENCE/tree/master/lecture_tutorials\n"
   ]
  },
  {
   "cell_type": "code",
   "execution_count": 33,
   "metadata": {},
   "outputs": [
    {
     "name": "stdout",
     "output_type": "stream",
     "text": [
      "['abbu', 1.73, 'ammu', 1.68, 'vaia', 1.9, 'apu', 1.79]\n",
      "abbu\n",
      "1.73\n",
      "['ammu', 1.68]\n",
      "['vaia', 1.9]\n",
      "['abbu', 1.73, 'ammu', 1.68]\n",
      "['vaia', 1.9, 'apu', 1.79]\n",
      "apu\n",
      "1.79\n"
     ]
    }
   ],
   "source": [
    "family = [\"abbu\", 1.73, \"ammu\", 1.68, \"vaia\", 1.9, \"apu\", 1.79]\n",
    "\n",
    "print(family)\n",
    "print(family[0])\n",
    "print(family[1])\n",
    "print(family[2:4])\n",
    "print(family[4:6])\n",
    "print(family[:4])\n",
    "print(family[4:])\n",
    "print(family[-2])\n",
    "print(family[-1])\n"
   ]
  },
  {
   "cell_type": "markdown",
   "metadata": {},
   "source": [
    "#### List Manipulation:\n",
    "1. Change list elements\n",
    "2. Add list elements\n",
    "3. Remove list elements"
   ]
  },
  {
   "cell_type": "code",
   "execution_count": 34,
   "metadata": {},
   "outputs": [
    {
     "name": "stdout",
     "output_type": "stream",
     "text": [
      "['abbu', 1.73, 'ammu', 1.68, 'vaia', 1.9, 'apu', 1.8]\n",
      "['baba', 1.74, 'ammu', 1.68, 'vaia', 1.9, 'apu', 1.8]\n"
     ]
    }
   ],
   "source": [
    "# changing list elements\n",
    "family[7] = 1.8\n",
    "print(family)\n",
    "\n",
    "family[0:2] = [\"baba\", 1.74]\n",
    "print(family)"
   ]
  },
  {
   "cell_type": "code",
   "execution_count": 35,
   "metadata": {},
   "outputs": [
    {
     "name": "stdout",
     "output_type": "stream",
     "text": [
      "['baba', 1.74, 'ammu', 1.68, 'vaia', 1.9, 'apu', 1.8, 'me', 1.6]\n",
      "['baba', 1.74, 'ammu', 1.68, 'vaia', 1.9, 'apu', 1.8, 'me']\n"
     ]
    }
   ],
   "source": [
    "# adding list elements\n",
    "family = family + [\"me\", 1.6]\n",
    "print(family)\n",
    "\n",
    "# removing list elements\n",
    "del(family[-1])\n",
    "print(family)"
   ]
  },
  {
   "cell_type": "markdown",
   "metadata": {},
   "source": [
    "#### LeetCode Problem 01: Defanging an IP Address\n",
    "\n",
    "Given a valid (IPv4) IP address, return a defanged version of that IP address.\n",
    "\n",
    "A defanged IP address replaces every period \".\" with \"[.]\"\n",
    "\n",
    "**Example 1:**\n",
    "<br>Input: address = \"1.1.1.1\"\n",
    "<br>Output: \"1[.]1[.]1[.]1\"\n",
    "\n",
    "**Example 2:**\n",
    "<br>Input: address = \"255.100.50.0\"\n",
    "<br>Output: \"255[.]100[.]50[.]0\""
   ]
  },
  {
   "cell_type": "code",
   "execution_count": 36,
   "metadata": {},
   "outputs": [],
   "source": [
    "def defangIPaddr(address):\n",
    "    \"\"\"\n",
    "    :type address: str\n",
    "    :rtype: str\n",
    "    \"\"\"\n",
    "    return address.replace('.', '[.]')"
   ]
  },
  {
   "cell_type": "code",
   "execution_count": 37,
   "metadata": {},
   "outputs": [
    {
     "name": "stdout",
     "output_type": "stream",
     "text": [
      "1[.]1[.]1[.]1\n",
      "255[.]100[.]50[.]0\n"
     ]
    }
   ],
   "source": [
    "example_1 = defangIPaddr(\"1.1.1.1\")\n",
    "print(example_1)\n",
    "\n",
    "example_2 = defangIPaddr(\"255.100.50.0\")\n",
    "print(example_2)"
   ]
  },
  {
   "cell_type": "markdown",
   "metadata": {},
   "source": [
    "#### LeetCode Problem 02: Goal Parser Interpretation\n",
    "\n",
    "You own a Goal Parser that can interpret a string command. The command consists of an alphabet of \"G\", \"()\" and/or \"(al)\" in some order. The Goal Parser will interpret \"G\" as the string \"G\", \"()\" as the string \"o\", and \"(al)\" as the string \"al\". The interpreted strings are then concatenated in the original order.\n",
    "\n",
    "Given the string command, return the Goal Parser's interpretation of command.\n",
    "\n",
    "**Example 1:**\n",
    "<br>Input: command = \"G()(al)\"\n",
    "<br>Output: \"Goal\"\n",
    "Explanation: The Goal Parser interprets the command as follows:\n",
    "G -> G\n",
    "() -> o\n",
    "(al) -> al\n",
    "The final concatenated result is \"Goal\".\n",
    "\n",
    "**Example 2:**\n",
    "<br>Input: command = \"G()()()()(al)\"\n",
    "<br>Output: \"Gooooal\"\n",
    "\n",
    "**Example 3:**\n",
    "<br>Input: command = \"(al)G(al)()()G\"\n",
    "<br>Output: \"alGalooG\""
   ]
  },
  {
   "cell_type": "code",
   "execution_count": 38,
   "metadata": {},
   "outputs": [],
   "source": [
    "def interpret(command):\n",
    "    \"\"\"\n",
    "    :type command: str\n",
    "    :rtype: str\n",
    "    \"\"\"\n",
    "    command = command.replace('()', 'o')\n",
    "    command = command.replace('(al)', 'al')\n",
    "\n",
    "    return command"
   ]
  },
  {
   "cell_type": "code",
   "execution_count": 39,
   "metadata": {},
   "outputs": [
    {
     "name": "stdout",
     "output_type": "stream",
     "text": [
      "Goal\n",
      "Gooooal\n",
      "alGalooG\n"
     ]
    }
   ],
   "source": [
    "example_1 = interpret(\"G()(al)\")\n",
    "print(example_1)\n",
    "\n",
    "example_2 = interpret(\"G()()()()(al)\")\n",
    "print(example_2)\n",
    "\n",
    "example_3 = interpret(\"(al)G(al)()()G\")\n",
    "print(example_3)"
   ]
  },
  {
   "cell_type": "markdown",
   "metadata": {},
   "source": [
    "#### LeetCode Problem 03: Check If Two String Arrays are Equivalent\n",
    "Given two string arrays word1 and word2, return true if the two arrays represent the same string, and false otherwise.\n",
    "\n",
    "A string is represented by an array if the array elements concatenated in order forms the string.\n",
    "\n",
    "**Example 1:**\n",
    "<br>Input: word1 = [\"ab\", \"c\"], word2 = [\"a\", \"bc\"]\n",
    "<br>Output: true\n",
    "<br>Explanation:\n",
    "<br>word1 represents string \"ab\" + \"c\" -> \"abc\"\n",
    "<br>word2 represents string \"a\" + \"bc\" -> \"abc\"\n",
    "<br>The strings are the same, so return true.\n",
    "\n",
    "**Example 2:**\n",
    "<br>Input: word1 = [\"a\", \"cb\"], word2 = [\"ab\", \"c\"]\n",
    "<br>Output: false\n",
    "\n",
    "**Example 3:**\n",
    "<br>Input: word1  = [\"abc\", \"d\", \"defg\"], word2 = [\"abcddefg\"]\n",
    "<br>Output: true"
   ]
  },
  {
   "cell_type": "code",
   "execution_count": 40,
   "metadata": {},
   "outputs": [],
   "source": [
    "def arrayStringsAreEqual(word1, word2):\n",
    "\n",
    "    return \"\".join(word1) == \"\".join(word2)"
   ]
  },
  {
   "cell_type": "code",
   "execution_count": 41,
   "metadata": {},
   "outputs": [
    {
     "name": "stdout",
     "output_type": "stream",
     "text": [
      "True\n",
      "False\n",
      "True\n"
     ]
    }
   ],
   "source": [
    "example_1 = arrayStringsAreEqual([\"ab\", \"c\"], [\"a\", \"bc\"])\n",
    "print(example_1)\n",
    "\n",
    "example_2 = arrayStringsAreEqual([\"a\", \"cb\"], [\"ab\", \"c\"])\n",
    "print(example_2)\n",
    "\n",
    "example_3 = arrayStringsAreEqual( [\"abc\", \"d\", \"defg\"], [\"abcddefg\"])\n",
    "print(example_3)"
   ]
  },
  {
   "cell_type": "code",
   "execution_count": null,
   "metadata": {},
   "outputs": [],
   "source": []
  }
 ],
 "metadata": {
  "kernelspec": {
   "display_name": "Python 3",
   "language": "python",
   "name": "python3"
  },
  "language_info": {
   "codemirror_mode": {
    "name": "ipython",
    "version": 3
   },
   "file_extension": ".py",
   "mimetype": "text/x-python",
   "name": "python",
   "nbconvert_exporter": "python",
   "pygments_lexer": "ipython3",
   "version": "3.7.7"
  }
 },
 "nbformat": 4,
 "nbformat_minor": 4
}
