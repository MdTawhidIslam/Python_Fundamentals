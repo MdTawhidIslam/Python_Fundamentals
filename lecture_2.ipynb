{
 "cells": [
  {
   "cell_type": "markdown",
   "metadata": {},
   "source": [
    "# Lecture 02: String Manipulation and Python Lists\n",
    "\n",
    "Instructor:\n",
    "<br>**Md Shahidullah Kawsar**\n",
    "<br>Data Scientist\n",
    "<br>IDARE, Houston, TX, USA\n",
    "\n",
    "#### Objectives:\n",
    "1. Logical and membership operators in Python\n",
    "2. Learn if-elseif-else condition by playing the Blockly games: Bird\n",
    "3. Learn strig manipulation\n",
    "4. Python List, slicing, changing, adding and removing list elements\n",
    "\n",
    "#### References: \n",
    "1. https://blockly.games/\n",
    "2. Python - Strings: https://www.tutorialspoint.com/python/python_strings.htm\n",
    "3. Data Science workshop: https://github.com/sadat1971/Conducting-Workshop-DATA-SCIENCE/tree/master/lecture_tutorials\n",
    "4. Python String: https://www.geeksforgeeks.org/python-strings/\n",
    "5. Python List: https://www.w3schools.com/python/python_lists.asp\n",
    "\n",
    "Best site to read articles on Data Science: (only 5 articles per month are free)\n",
    "\n",
    "6. medium.com (require paid subscription)\n",
    "7. towardsdatascience.com (require paid subscription)"
   ]
  },
  {
   "cell_type": "code",
   "execution_count": 78,
   "metadata": {},
   "outputs": [
    {
     "name": "stdout",
     "output_type": "stream",
     "text": [
      "Player name :  Lionel Andres Messi\n",
      "<class 'str'>\n",
      "Birth Year :  1987\n",
      "<class 'int'>\n",
      "Height :  5.7\n",
      "<class 'float'>\n",
      "Is he the greatest of all time?  True\n",
      "<class 'bool'>\n"
     ]
    }
   ],
   "source": [
    "name = \"Lionel Andres Messi\"\n",
    "birth_year = 1987\n",
    "height = 5.7\n",
    "is_he_a_goat = True\n",
    "\n",
    "print(\"Player name : \", name)\n",
    "print(type(name))\n",
    "\n",
    "print(\"Birth Year : \", birth_year)\n",
    "print(type(birth_year))\n",
    "\n",
    "print(\"Height : \", height)\n",
    "print(type(height))\n",
    "\n",
    "print(\"Is he the greatest of all time? \", is_he_a_goat)\n",
    "print(type(is_he_a_goat))"
   ]
  },
  {
   "cell_type": "markdown",
   "metadata": {},
   "source": [
    "### Logical operators"
   ]
  },
  {
   "cell_type": "code",
   "execution_count": 79,
   "metadata": {},
   "outputs": [
    {
     "name": "stdout",
     "output_type": "stream",
     "text": [
      "a == b and c == d :  True\n",
      "a == b or c == d :  True\n",
      "not c == d :  False\n"
     ]
    }
   ],
   "source": [
    "a = 1\n",
    "b = 1\n",
    "c = 2\n",
    "d = 2\n",
    "\n",
    "print(\"a == b and c == d : \", a == b and c == d)\n",
    "print(\"a == b or c == d : \", a == b or c == d)\n",
    "print(\"not c == d : \", not c == d)"
   ]
  },
  {
   "cell_type": "code",
   "execution_count": 80,
   "metadata": {},
   "outputs": [
    {
     "name": "stdout",
     "output_type": "stream",
     "text": [
      "True\n",
      "False\n",
      "False\n",
      "False\n"
     ]
    }
   ],
   "source": [
    "print(True and True)\n",
    "print(False and True)\n",
    "print(True and False)\n",
    "print(False and False)"
   ]
  },
  {
   "cell_type": "code",
   "execution_count": 81,
   "metadata": {},
   "outputs": [
    {
     "name": "stdout",
     "output_type": "stream",
     "text": [
      "True\n",
      "True\n",
      "True\n",
      "False\n"
     ]
    }
   ],
   "source": [
    "print(True or True)\n",
    "print(False or True)\n",
    "print(True or False)\n",
    "print(False or False)"
   ]
  },
  {
   "cell_type": "markdown",
   "metadata": {},
   "source": [
    "### Membership operators"
   ]
  },
  {
   "cell_type": "code",
   "execution_count": 82,
   "metadata": {},
   "outputs": [
    {
     "name": "stdout",
     "output_type": "stream",
     "text": [
      "a in b     :  True\n",
      "a not in b :  False\n"
     ]
    }
   ],
   "source": [
    "a = \"abul\"\n",
    "b = \"babul\"\n",
    "\n",
    "print(\"a in b     : \", a in b)\n",
    "print(\"a not in b : \", a not in b)"
   ]
  },
  {
   "cell_type": "code",
   "execution_count": 83,
   "metadata": {},
   "outputs": [],
   "source": [
    "string = \"rOnaldo \""
   ]
  },
  {
   "cell_type": "markdown",
   "metadata": {},
   "source": [
    "- How to capitalize the first character of a string?"
   ]
  },
  {
   "cell_type": "code",
   "execution_count": 84,
   "metadata": {},
   "outputs": [
    {
     "name": "stdout",
     "output_type": "stream",
     "text": [
      "Ronaldo \n"
     ]
    }
   ],
   "source": [
    "str_capitalize = string.capitalize()\n",
    "print(str_capitalize)"
   ]
  },
  {
   "cell_type": "markdown",
   "metadata": {},
   "source": [
    "- How to find the frequency of the substring in a string?"
   ]
  },
  {
   "cell_type": "code",
   "execution_count": 85,
   "metadata": {},
   "outputs": [
    {
     "name": "stdout",
     "output_type": "stream",
     "text": [
      "1\n"
     ]
    }
   ],
   "source": [
    "str_count = string.count(\"a\")\n",
    "print(str_count)"
   ]
  },
  {
   "cell_type": "markdown",
   "metadata": {},
   "source": [
    "- How to find if a string starts or ends with a specific substring?"
   ]
  },
  {
   "cell_type": "code",
   "execution_count": 86,
   "metadata": {},
   "outputs": [
    {
     "name": "stdout",
     "output_type": "stream",
     "text": [
      "True\n"
     ]
    }
   ],
   "source": [
    "str_startswith = string.startswith(\"r\")\n",
    "print(str_startswith)"
   ]
  },
  {
   "cell_type": "code",
   "execution_count": 87,
   "metadata": {},
   "outputs": [
    {
     "name": "stdout",
     "output_type": "stream",
     "text": [
      "False\n"
     ]
    }
   ],
   "source": [
    "str_endswith = string.endswith(\"o\")\n",
    "print(str_endswith)"
   ]
  },
  {
   "cell_type": "markdown",
   "metadata": {},
   "source": [
    "- How to find the index of a specific character in a string?"
   ]
  },
  {
   "cell_type": "code",
   "execution_count": 88,
   "metadata": {},
   "outputs": [
    {
     "name": "stdout",
     "output_type": "stream",
     "text": [
      "3\n"
     ]
    }
   ],
   "source": [
    "str_find = string.find(\"a\")\n",
    "print(str_find)"
   ]
  },
  {
   "cell_type": "code",
   "execution_count": 89,
   "metadata": {},
   "outputs": [
    {
     "name": "stdout",
     "output_type": "stream",
     "text": [
      "0\n"
     ]
    }
   ],
   "source": [
    "str_index = string.index(\"r\")\n",
    "print(str_index)"
   ]
  },
  {
   "cell_type": "markdown",
   "metadata": {},
   "source": [
    "- How to convert a string into lower case and upper case characters?"
   ]
  },
  {
   "cell_type": "code",
   "execution_count": 90,
   "metadata": {},
   "outputs": [
    {
     "name": "stdout",
     "output_type": "stream",
     "text": [
      "ronaldo \n"
     ]
    }
   ],
   "source": [
    "str_lower = string.lower()\n",
    "print(str_lower)"
   ]
  },
  {
   "cell_type": "code",
   "execution_count": 91,
   "metadata": {},
   "outputs": [
    {
     "name": "stdout",
     "output_type": "stream",
     "text": [
      "RONALDO \n"
     ]
    }
   ],
   "source": [
    "str_upper = string.upper()\n",
    "print(str_upper)"
   ]
  },
  {
   "cell_type": "code",
   "execution_count": 92,
   "metadata": {},
   "outputs": [],
   "source": [
    "string = \" Ronaldo\""
   ]
  },
  {
   "cell_type": "markdown",
   "metadata": {},
   "source": [
    "- How to remove spaces from a string?"
   ]
  },
  {
   "cell_type": "code",
   "execution_count": 93,
   "metadata": {},
   "outputs": [
    {
     "name": "stdout",
     "output_type": "stream",
     "text": [
      "Ronaldo\n"
     ]
    }
   ],
   "source": [
    "str_lstrip = string.lstrip()\n",
    "print(str_lstrip)"
   ]
  },
  {
   "cell_type": "code",
   "execution_count": 94,
   "metadata": {},
   "outputs": [],
   "source": [
    "string = \"ronaldo \""
   ]
  },
  {
   "cell_type": "code",
   "execution_count": 95,
   "metadata": {},
   "outputs": [
    {
     "name": "stdout",
     "output_type": "stream",
     "text": [
      "ronaldo\n"
     ]
    }
   ],
   "source": [
    "str_rstrip = string.rstrip()\n",
    "print(str_rstrip)"
   ]
  },
  {
   "cell_type": "markdown",
   "metadata": {},
   "source": [
    "- How to replace a substring inside a string?"
   ]
  },
  {
   "cell_type": "code",
   "execution_count": 96,
   "metadata": {},
   "outputs": [
    {
     "name": "stdout",
     "output_type": "stream",
     "text": [
      "ronbldo \n"
     ]
    }
   ],
   "source": [
    "str_replace = string.replace(\"a\", \"b\")\n",
    "print(str_replace)"
   ]
  },
  {
   "cell_type": "code",
   "execution_count": 97,
   "metadata": {},
   "outputs": [],
   "source": [
    "string = \"SakibAlHasan100\""
   ]
  },
  {
   "cell_type": "markdown",
   "metadata": {},
   "source": [
    "- How to find the presence of an alphanumeric character, alphabet or digit?"
   ]
  },
  {
   "cell_type": "code",
   "execution_count": 98,
   "metadata": {},
   "outputs": [
    {
     "name": "stdout",
     "output_type": "stream",
     "text": [
      "True\n"
     ]
    }
   ],
   "source": [
    "str_isalnum = string.isalnum()\n",
    "print(str_isalnum)"
   ]
  },
  {
   "cell_type": "code",
   "execution_count": 99,
   "metadata": {},
   "outputs": [
    {
     "name": "stdout",
     "output_type": "stream",
     "text": [
      "False\n"
     ]
    }
   ],
   "source": [
    "str_isalpha = string.isalpha()\n",
    "print(str_isalpha)"
   ]
  },
  {
   "cell_type": "code",
   "execution_count": 100,
   "metadata": {},
   "outputs": [
    {
     "name": "stdout",
     "output_type": "stream",
     "text": [
      "False\n"
     ]
    }
   ],
   "source": [
    "str_isdigit = string.isdigit()\n",
    "print(str_isdigit)"
   ]
  },
  {
   "cell_type": "code",
   "execution_count": 101,
   "metadata": {},
   "outputs": [
    {
     "name": "stdout",
     "output_type": "stream",
     "text": [
      "False\n"
     ]
    }
   ],
   "source": [
    "str_islower = string.islower()\n",
    "print(str_islower)"
   ]
  },
  {
   "cell_type": "code",
   "execution_count": 102,
   "metadata": {},
   "outputs": [
    {
     "name": "stdout",
     "output_type": "stream",
     "text": [
      "False\n"
     ]
    }
   ],
   "source": [
    "str_isspace = string.isspace()\n",
    "print(str_isspace)"
   ]
  },
  {
   "cell_type": "code",
   "execution_count": 103,
   "metadata": {},
   "outputs": [
    {
     "name": "stdout",
     "output_type": "stream",
     "text": [
      "False\n"
     ]
    }
   ],
   "source": [
    "str_isupper = string.isupper()\n",
    "print(str_isupper)"
   ]
  },
  {
   "cell_type": "markdown",
   "metadata": {},
   "source": [
    "### String slicing"
   ]
  },
  {
   "cell_type": "code",
   "execution_count": 104,
   "metadata": {},
   "outputs": [
    {
     "name": "stdout",
     "output_type": "stream",
     "text": [
      "I\n",
      "h\n",
      "I live \n",
      "in Bangladesh\n",
      "I live \n",
      "in Banglades\n"
     ]
    }
   ],
   "source": [
    "string = \"I live in Bangladesh\"\n",
    "\n",
    "print(string[0])\n",
    "print(string[-1])\n",
    "print(string[:7])\n",
    "print(string[7:])\n",
    "print(string[0:7])\n",
    "print(string[7:-1])"
   ]
  },
  {
   "cell_type": "code",
   "execution_count": 105,
   "metadata": {},
   "outputs": [
    {
     "name": "stdout",
     "output_type": "stream",
     "text": [
      "['abbu', 1.73, 'ammu', 1.68, 'vaia', 1.9, 'apu', 1.79]\n",
      "abbu\n",
      "1.73\n",
      "['ammu', 1.68]\n",
      "['vaia', 1.9]\n",
      "['abbu', 1.73, 'ammu', 1.68]\n",
      "['vaia', 1.9, 'apu', 1.79]\n",
      "apu\n",
      "1.79\n"
     ]
    }
   ],
   "source": [
    "family = [\"abbu\", 1.73, \"ammu\", 1.68, \"vaia\", 1.9, \"apu\", 1.79]\n",
    "\n",
    "print(family)\n",
    "print(family[0])\n",
    "print(family[1])\n",
    "print(family[2:4])\n",
    "print(family[4:6])\n",
    "print(family[:4])\n",
    "print(family[4:])\n",
    "print(family[-2])\n",
    "print(family[-1])\n"
   ]
  },
  {
   "cell_type": "markdown",
   "metadata": {},
   "source": [
    "#### List Manipulation:\n",
    "1. Change list elements\n",
    "2. Add list elements\n",
    "3. Remove list elements"
   ]
  },
  {
   "cell_type": "code",
   "execution_count": 106,
   "metadata": {},
   "outputs": [
    {
     "name": "stdout",
     "output_type": "stream",
     "text": [
      "['abbu', 1.73, 'ammu', 1.68, 'vaia', 1.9, 'apu', 1.8]\n",
      "['baba', 1.74, 'ammu', 1.68, 'vaia', 1.9, 'apu', 1.8]\n"
     ]
    }
   ],
   "source": [
    "# changing list elements\n",
    "family[7] = 1.8\n",
    "print(family)\n",
    "\n",
    "family[0:2] = [\"baba\", 1.74]\n",
    "print(family)"
   ]
  },
  {
   "cell_type": "code",
   "execution_count": 107,
   "metadata": {},
   "outputs": [
    {
     "name": "stdout",
     "output_type": "stream",
     "text": [
      "['baba', 1.74, 'ammu', 1.68, 'vaia', 1.9, 'apu', 1.8, 'me', 1.6]\n",
      "['baba', 1.74, 'ammu', 1.68, 'vaia', 1.9, 'apu', 1.8, 'me']\n"
     ]
    }
   ],
   "source": [
    "# adding list elements\n",
    "family = family + [\"me\", 1.6]\n",
    "print(family)\n",
    "\n",
    "# removing list elements\n",
    "del(family[-1])\n",
    "print(family)"
   ]
  },
  {
   "cell_type": "code",
   "execution_count": null,
   "metadata": {},
   "outputs": [],
   "source": []
  }
 ],
 "metadata": {
  "kernelspec": {
   "display_name": "Python 3",
   "language": "python",
   "name": "python3"
  },
  "language_info": {
   "codemirror_mode": {
    "name": "ipython",
    "version": 3
   },
   "file_extension": ".py",
   "mimetype": "text/x-python",
   "name": "python",
   "nbconvert_exporter": "python",
   "pygments_lexer": "ipython3",
   "version": "3.7.6"
  }
 },
 "nbformat": 4,
 "nbformat_minor": 4
}
