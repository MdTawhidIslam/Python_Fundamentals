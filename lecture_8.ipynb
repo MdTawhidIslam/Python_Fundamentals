{
 "cells": [
  {
   "cell_type": "markdown",
   "metadata": {},
   "source": [
    "# Lecture 08: Data Analysis in Python: Pandas\n",
    "\n",
    "Instructor:\n",
    "<br>**Md Shahidullah Kawsar**\n",
    "<br>Data Scientist\n",
    "<br>IDARE, Houston, TX, USA\n",
    "\n",
    "#### Objectives:\n",
    "1. How to look at the data?\n",
    "2. Good data or bad data?\n",
    "3. Data Statistics\n",
    "\n",
    "### What is customer churn?\n",
    "Source: DataCamp and Mark Peterson\n",
    "\n",
    "When an existing customer, user, player, subscriber or any kind of return client stops doing business or ends the relationship with a company is called customer churn.\n",
    "\n",
    "**Contractual churn:** When a customer is under contract for a service and decides to cancel their service. Example: Cable TV, SaaS products (Software as a Service e.g. Dropbox).\n",
    "\n",
    "**Voluntary churn:** When a user voluntarily cancels a service and includes prepaid cell phones, streaming subscriptions.\n",
    "\n",
    "**Non-contractual churn:** When a customer is not under contract for a service and includes customer loyality at a retail location or online browsing. \n",
    "\n",
    "**Involuntary churn:** When a churn occurs not at the request of the customer. For example: credit card expiration, utilities being shut off by the provider.\n",
    "\n",
    "Most likely, you as a customer have cancelled a service for a variety of reasons including lack of usage, poor service or better price. \n",
    "\n",
    "Dataset: cellular usage dataset that consists of records of actual cell phone that include specific features such as\n",
    "\n",
    "1. **Account_Length**: the number of days the customer has the subscription with the telecom company\n",
    "\n",
    "2. **Vmail_Message**: the total number of voicemails the customer has sent\n",
    "\n",
    "3. **Total_mins**: the total number of minutes the customer has talked over the phone\n",
    "\n",
    "4. **CustServ_Calls**: the number of customer service calls the customer made\n",
    "\n",
    "5. **Churn**: yes and no - indicating whether or not the customer has churned\n",
    "\n",
    "6. **Intl_Plan**: yes and no - indicating whether or not the customer has international plan or not\n",
    "\n",
    "7. **Vmail_Plan**: yes and no - indicating whether or not the customer has voicemail plan or not\n",
    "\n",
    "8. **Total_calls**: the total number of calls the customer has made\n",
    "\n",
    "9. **Total_charges**: the total amount of bill in $ the customer has paid"
   ]
  },
  {
   "cell_type": "code",
   "execution_count": 1,
   "metadata": {},
   "outputs": [],
   "source": [
    "import pandas as pd"
   ]
  },
  {
   "cell_type": "code",
   "execution_count": 10,
   "metadata": {},
   "outputs": [
    {
     "data": {
      "text/html": [
       "<div>\n",
       "<style scoped>\n",
       "    .dataframe tbody tr th:only-of-type {\n",
       "        vertical-align: middle;\n",
       "    }\n",
       "\n",
       "    .dataframe tbody tr th {\n",
       "        vertical-align: top;\n",
       "    }\n",
       "\n",
       "    .dataframe thead th {\n",
       "        text-align: right;\n",
       "    }\n",
       "</style>\n",
       "<table border=\"1\" class=\"dataframe\">\n",
       "  <thead>\n",
       "    <tr style=\"text-align: right;\">\n",
       "      <th></th>\n",
       "      <th>Account_Length</th>\n",
       "      <th>Vmail_Message</th>\n",
       "      <th>CustServ_Calls</th>\n",
       "      <th>Churn</th>\n",
       "      <th>Intl_Plan</th>\n",
       "      <th>Vmail_Plan</th>\n",
       "      <th>Total_mins</th>\n",
       "      <th>Total_calls</th>\n",
       "      <th>Total_charges</th>\n",
       "    </tr>\n",
       "  </thead>\n",
       "  <tbody>\n",
       "    <tr>\n",
       "      <th>0</th>\n",
       "      <td>128</td>\n",
       "      <td>25</td>\n",
       "      <td>1</td>\n",
       "      <td>no</td>\n",
       "      <td>no</td>\n",
       "      <td>yes</td>\n",
       "      <td>717.2</td>\n",
       "      <td>303</td>\n",
       "      <td>320.26</td>\n",
       "    </tr>\n",
       "    <tr>\n",
       "      <th>1</th>\n",
       "      <td>107</td>\n",
       "      <td>26</td>\n",
       "      <td>1</td>\n",
       "      <td>no</td>\n",
       "      <td>no</td>\n",
       "      <td>yes</td>\n",
       "      <td>625.2</td>\n",
       "      <td>332</td>\n",
       "      <td>313.64</td>\n",
       "    </tr>\n",
       "    <tr>\n",
       "      <th>2</th>\n",
       "      <td>137</td>\n",
       "      <td>0</td>\n",
       "      <td>0</td>\n",
       "      <td>no</td>\n",
       "      <td>no</td>\n",
       "      <td>no</td>\n",
       "      <td>539.4</td>\n",
       "      <td>333</td>\n",
       "      <td>224.89</td>\n",
       "    </tr>\n",
       "    <tr>\n",
       "      <th>3</th>\n",
       "      <td>84</td>\n",
       "      <td>0</td>\n",
       "      <td>2</td>\n",
       "      <td>no</td>\n",
       "      <td>yes</td>\n",
       "      <td>no</td>\n",
       "      <td>564.8</td>\n",
       "      <td>255</td>\n",
       "      <td>263.70</td>\n",
       "    </tr>\n",
       "    <tr>\n",
       "      <th>4</th>\n",
       "      <td>75</td>\n",
       "      <td>0</td>\n",
       "      <td>3</td>\n",
       "      <td>no</td>\n",
       "      <td>yes</td>\n",
       "      <td>no</td>\n",
       "      <td>512.0</td>\n",
       "      <td>359</td>\n",
       "      <td>238.99</td>\n",
       "    </tr>\n",
       "  </tbody>\n",
       "</table>\n",
       "</div>"
      ],
      "text/plain": [
       "   Account_Length  Vmail_Message  CustServ_Calls Churn Intl_Plan Vmail_Plan  \\\n",
       "0             128             25               1    no        no        yes   \n",
       "1             107             26               1    no        no        yes   \n",
       "2             137              0               0    no        no         no   \n",
       "3              84              0               2    no       yes         no   \n",
       "4              75              0               3    no       yes         no   \n",
       "\n",
       "   Total_mins  Total_calls  Total_charges  \n",
       "0       717.2          303         320.26  \n",
       "1       625.2          332         313.64  \n",
       "2       539.4          333         224.89  \n",
       "3       564.8          255         263.70  \n",
       "4       512.0          359         238.99  "
      ]
     },
     "metadata": {},
     "output_type": "display_data"
    }
   ],
   "source": [
    "# reading a csv file as dataframe\n",
    "df = pd.read_csv(\"telecom_data.csv\")\n",
    "\n",
    "# print(df)\n",
    "display(df.head())\n",
    "\n",
    "# display(df.tail(15))"
   ]
  },
  {
   "cell_type": "code",
   "execution_count": 11,
   "metadata": {},
   "outputs": [
    {
     "name": "stdout",
     "output_type": "stream",
     "text": [
      "<class 'pandas.core.frame.DataFrame'>\n",
      "RangeIndex: 3333 entries, 0 to 3332\n",
      "Data columns (total 9 columns):\n",
      " #   Column          Non-Null Count  Dtype  \n",
      "---  ------          --------------  -----  \n",
      " 0   Account_Length  3333 non-null   int64  \n",
      " 1   Vmail_Message   3333 non-null   int64  \n",
      " 2   CustServ_Calls  3333 non-null   int64  \n",
      " 3   Churn           3333 non-null   object \n",
      " 4   Intl_Plan       3333 non-null   object \n",
      " 5   Vmail_Plan      3333 non-null   object \n",
      " 6   Total_mins      3333 non-null   float64\n",
      " 7   Total_calls     3333 non-null   int64  \n",
      " 8   Total_charges   3333 non-null   float64\n",
      "dtypes: float64(2), int64(4), object(3)\n",
      "memory usage: 234.5+ KB\n",
      "None\n"
     ]
    }
   ],
   "source": [
    "print(df.info())"
   ]
  },
  {
   "cell_type": "code",
   "execution_count": 12,
   "metadata": {},
   "outputs": [
    {
     "data": {
      "text/html": [
       "<div>\n",
       "<style scoped>\n",
       "    .dataframe tbody tr th:only-of-type {\n",
       "        vertical-align: middle;\n",
       "    }\n",
       "\n",
       "    .dataframe tbody tr th {\n",
       "        vertical-align: top;\n",
       "    }\n",
       "\n",
       "    .dataframe thead th {\n",
       "        text-align: right;\n",
       "    }\n",
       "</style>\n",
       "<table border=\"1\" class=\"dataframe\">\n",
       "  <thead>\n",
       "    <tr style=\"text-align: right;\">\n",
       "      <th></th>\n",
       "      <th>Account_Length</th>\n",
       "      <th>Vmail_Message</th>\n",
       "      <th>CustServ_Calls</th>\n",
       "      <th>Total_mins</th>\n",
       "      <th>Total_calls</th>\n",
       "      <th>Total_charges</th>\n",
       "    </tr>\n",
       "  </thead>\n",
       "  <tbody>\n",
       "    <tr>\n",
       "      <th>count</th>\n",
       "      <td>3333.000000</td>\n",
       "      <td>3333.000000</td>\n",
       "      <td>3333.000000</td>\n",
       "      <td>3333.000000</td>\n",
       "      <td>3333.000000</td>\n",
       "      <td>3333.000000</td>\n",
       "    </tr>\n",
       "    <tr>\n",
       "      <th>mean</th>\n",
       "      <td>101.064806</td>\n",
       "      <td>8.099010</td>\n",
       "      <td>1.562856</td>\n",
       "      <td>591.864776</td>\n",
       "      <td>305.137114</td>\n",
       "      <td>260.321791</td>\n",
       "    </tr>\n",
       "    <tr>\n",
       "      <th>std</th>\n",
       "      <td>39.822106</td>\n",
       "      <td>13.688365</td>\n",
       "      <td>1.315491</td>\n",
       "      <td>89.954251</td>\n",
       "      <td>34.448164</td>\n",
       "      <td>53.810896</td>\n",
       "    </tr>\n",
       "    <tr>\n",
       "      <th>min</th>\n",
       "      <td>1.000000</td>\n",
       "      <td>0.000000</td>\n",
       "      <td>0.000000</td>\n",
       "      <td>284.300000</td>\n",
       "      <td>191.000000</td>\n",
       "      <td>68.370000</td>\n",
       "    </tr>\n",
       "    <tr>\n",
       "      <th>25%</th>\n",
       "      <td>74.000000</td>\n",
       "      <td>0.000000</td>\n",
       "      <td>1.000000</td>\n",
       "      <td>531.500000</td>\n",
       "      <td>282.000000</td>\n",
       "      <td>224.220000</td>\n",
       "    </tr>\n",
       "    <tr>\n",
       "      <th>50%</th>\n",
       "      <td>101.000000</td>\n",
       "      <td>0.000000</td>\n",
       "      <td>1.000000</td>\n",
       "      <td>593.600000</td>\n",
       "      <td>305.000000</td>\n",
       "      <td>260.560000</td>\n",
       "    </tr>\n",
       "    <tr>\n",
       "      <th>75%</th>\n",
       "      <td>127.000000</td>\n",
       "      <td>20.000000</td>\n",
       "      <td>2.000000</td>\n",
       "      <td>652.400000</td>\n",
       "      <td>328.000000</td>\n",
       "      <td>295.410000</td>\n",
       "    </tr>\n",
       "    <tr>\n",
       "      <th>max</th>\n",
       "      <td>243.000000</td>\n",
       "      <td>51.000000</td>\n",
       "      <td>9.000000</td>\n",
       "      <td>885.000000</td>\n",
       "      <td>416.000000</td>\n",
       "      <td>460.630000</td>\n",
       "    </tr>\n",
       "  </tbody>\n",
       "</table>\n",
       "</div>"
      ],
      "text/plain": [
       "       Account_Length  Vmail_Message  CustServ_Calls   Total_mins  \\\n",
       "count     3333.000000    3333.000000     3333.000000  3333.000000   \n",
       "mean       101.064806       8.099010        1.562856   591.864776   \n",
       "std         39.822106      13.688365        1.315491    89.954251   \n",
       "min          1.000000       0.000000        0.000000   284.300000   \n",
       "25%         74.000000       0.000000        1.000000   531.500000   \n",
       "50%        101.000000       0.000000        1.000000   593.600000   \n",
       "75%        127.000000      20.000000        2.000000   652.400000   \n",
       "max        243.000000      51.000000        9.000000   885.000000   \n",
       "\n",
       "       Total_calls  Total_charges  \n",
       "count  3333.000000    3333.000000  \n",
       "mean    305.137114     260.321791  \n",
       "std      34.448164      53.810896  \n",
       "min     191.000000      68.370000  \n",
       "25%     282.000000     224.220000  \n",
       "50%     305.000000     260.560000  \n",
       "75%     328.000000     295.410000  \n",
       "max     416.000000     460.630000  "
      ]
     },
     "metadata": {},
     "output_type": "display_data"
    }
   ],
   "source": [
    "display(df.describe())"
   ]
  },
  {
   "cell_type": "code",
   "execution_count": 13,
   "metadata": {},
   "outputs": [],
   "source": [
    "import numpy as np"
   ]
  },
  {
   "cell_type": "code",
   "execution_count": 25,
   "metadata": {},
   "outputs": [
    {
     "name": "stdout",
     "output_type": "stream",
     "text": [
      "2.68\n",
      "1.0\n"
     ]
    }
   ],
   "source": [
    "arr = np.array([1,-1,0,1,1,1,1,1,1,1,1,1,1,1,1,1,3,2,4,5,7,6,8,10,9])\n",
    "\n",
    "avg = np.mean(arr)\n",
    "print(avg)\n",
    "\n",
    "median = np.median(arr)\n",
    "print(median)"
   ]
  },
  {
   "cell_type": "code",
   "execution_count": 26,
   "metadata": {},
   "outputs": [
    {
     "data": {
      "text/plain": [
       "[-1, 0, 1, 1, 1, 1, 1, 1, 1, 1, 1, 1, 1, 1, 1, 1, 2, 3, 4, 5, 6, 7, 8, 9, 10]"
      ]
     },
     "execution_count": 26,
     "metadata": {},
     "output_type": "execute_result"
    }
   ],
   "source": [
    "sorted(arr)"
   ]
  },
  {
   "cell_type": "code",
   "execution_count": 28,
   "metadata": {},
   "outputs": [
    {
     "data": {
      "text/plain": [
       "no     2850\n",
       "yes     483\n",
       "Name: Churn, dtype: int64"
      ]
     },
     "execution_count": 28,
     "metadata": {},
     "output_type": "execute_result"
    }
   ],
   "source": [
    "df['Churn'].value_counts()"
   ]
  },
  {
   "cell_type": "code",
   "execution_count": 29,
   "metadata": {},
   "outputs": [
    {
     "data": {
      "text/plain": [
       "no     3010\n",
       "yes     323\n",
       "Name: Intl_Plan, dtype: int64"
      ]
     },
     "metadata": {},
     "output_type": "display_data"
    }
   ],
   "source": [
    "display(df['Intl_Plan'].value_counts())"
   ]
  },
  {
   "cell_type": "code",
   "execution_count": 30,
   "metadata": {},
   "outputs": [
    {
     "data": {
      "text/plain": [
       "no     2411\n",
       "yes     922\n",
       "Name: Vmail_Plan, dtype: int64"
      ]
     },
     "execution_count": 30,
     "metadata": {},
     "output_type": "execute_result"
    }
   ],
   "source": [
    "df['Vmail_Plan'].value_counts()"
   ]
  },
  {
   "cell_type": "code",
   "execution_count": 31,
   "metadata": {},
   "outputs": [
    {
     "data": {
      "text/plain": [
       "1    1181\n",
       "2     759\n",
       "0     697\n",
       "3     429\n",
       "4     166\n",
       "5      66\n",
       "6      22\n",
       "7       9\n",
       "9       2\n",
       "8       2\n",
       "Name: CustServ_Calls, dtype: int64"
      ]
     },
     "execution_count": 31,
     "metadata": {},
     "output_type": "execute_result"
    }
   ],
   "source": [
    "df['CustServ_Calls'].value_counts()"
   ]
  },
  {
   "cell_type": "markdown",
   "metadata": {},
   "source": [
    "#### Course outcome:\n",
    "\n",
    "1. How to use with Anaconda, jupyter notebook, and Github\n",
    "2. imporved our logical thinking by playing blockly games: Maze, Bird, Turtle\n",
    "3. Learned about Python data types, Mathematical Operations, Comparison Operators, Logical Operators, and Membership Operators\n",
    "4. Learned if-elseif-else condition, while, for loop\n",
    "5. Learned strig manipulation\n",
    "6. Python List, list slicing, changing, adding and removing list elements\n",
    "7. Python Data Structure: List, tuple, dictionary, set\n",
    "8. How to write functions in Python \n",
    "9. Solved 10 LeetCode problems and learned how to solve same problem from different perspectives\n",
    "10. Learned how to use math functions and NumPy operations\n",
    "11. Comparison between List and NumPy array\n",
    "12. Mathematical and Matrix operation in NumPy array\n",
    "13. NumPy array slicing and filtering\n",
    "14. Reading a csv file using Pandas, finding missing values, data statistics and detail information\n",
    "\n",
    "#python #leetcode #datascience #dataanalysis #numpy #pandas"
   ]
  },
  {
   "cell_type": "code",
   "execution_count": null,
   "metadata": {},
   "outputs": [],
   "source": []
  }
 ],
 "metadata": {
  "kernelspec": {
   "display_name": "Python 3",
   "language": "python",
   "name": "python3"
  },
  "language_info": {
   "codemirror_mode": {
    "name": "ipython",
    "version": 3
   },
   "file_extension": ".py",
   "mimetype": "text/x-python",
   "name": "python",
   "nbconvert_exporter": "python",
   "pygments_lexer": "ipython3",
   "version": "3.7.6"
  }
 },
 "nbformat": 4,
 "nbformat_minor": 4
}
